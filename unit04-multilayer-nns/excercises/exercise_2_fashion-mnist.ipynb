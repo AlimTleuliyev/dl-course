{
 "cells": [
  {
   "attachments": {},
   "cell_type": "markdown",
   "id": "d71bce70-9dc3-448b-9f9a-8896e83b6d09",
   "metadata": {},
   "source": [
    "# Implementing a Multilayer Perceptron (MNIST)"
   ]
  },
  {
   "cell_type": "code",
   "execution_count": 13,
   "id": "05b95d1a",
   "metadata": {},
   "outputs": [],
   "source": [
    "import torch\n",
    "import torch.nn as nn"
   ]
  },
  {
   "attachments": {},
   "cell_type": "markdown",
   "id": "b9549676-2fa5-41a7-bbb9-ce03f5797c34",
   "metadata": {},
   "source": [
    "## 2) Loading the dataset"
   ]
  },
  {
   "cell_type": "code",
   "execution_count": 20,
   "id": "f609024c-3eae-4ad5-8cb8-b95b403b7606",
   "metadata": {},
   "outputs": [],
   "source": [
    "from torch.utils.data import DataLoader\n",
    "from torchvision import datasets, transforms\n",
    "\n",
    "\n",
    "def load_mnist(path, kind='train'):\n",
    "    import os\n",
    "    import gzip\n",
    "    import numpy as np\n",
    "\n",
    "    \"\"\"Load MNIST data from `path`\"\"\"\n",
    "    labels_path = os.path.join(path,\n",
    "                               '%s-labels-idx1-ubyte.gz'\n",
    "                               % kind)\n",
    "    images_path = os.path.join(path,\n",
    "                               '%s-images-idx3-ubyte.gz'\n",
    "                               % kind)\n",
    "\n",
    "    with gzip.open(labels_path, 'rb') as lbpath:\n",
    "        labels = np.frombuffer(lbpath.read(), dtype=np.uint8,\n",
    "                               offset=8)\n",
    "\n",
    "    with gzip.open(images_path, 'rb') as imgpath:\n",
    "        images = np.frombuffer(imgpath.read(), dtype=np.uint8,\n",
    "                               offset=16).reshape(len(labels), 784)\n",
    "\n",
    "    return images, labels"
   ]
  },
  {
   "cell_type": "code",
   "execution_count": 15,
   "id": "9e681ae1",
   "metadata": {},
   "outputs": [],
   "source": [
    "train_images, train_labels = load_mnist('data/fashion', kind='train')"
   ]
  },
  {
   "cell_type": "code",
   "execution_count": 16,
   "id": "4540ff57",
   "metadata": {},
   "outputs": [],
   "source": [
    "mean = train_images.mean()\n",
    "std = train_images.std()"
   ]
  },
  {
   "cell_type": "code",
   "execution_count": 17,
   "id": "732580b7",
   "metadata": {},
   "outputs": [
    {
     "data": {
      "text/plain": [
       "tensor([[[0.0000, 0.0000, 0.0000, 0.0000, 0.0000, 0.0000, 0.0000, 0.0000,\n",
       "          0.0000, 0.0000, 0.0000, 0.0000, 0.0000, 0.0000, 0.0000, 0.0000,\n",
       "          0.0000, 0.0000, 0.0000, 0.0000, 0.0000, 0.0000, 0.0000, 0.0000,\n",
       "          0.0000, 0.0000, 0.0000, 0.0000],\n",
       "         [0.0000, 0.0000, 0.0000, 0.0000, 0.0000, 0.0000, 0.0000, 0.0000,\n",
       "          0.0000, 0.0000, 0.0000, 0.0000, 0.0000, 0.0000, 0.0000, 0.0000,\n",
       "          0.0000, 0.0000, 0.0000, 0.0000, 0.0000, 0.0000, 0.0000, 0.0000,\n",
       "          0.0000, 0.0000, 0.0000, 0.0000],\n",
       "         [0.0000, 0.0000, 0.0000, 0.0000, 0.0000, 0.0000, 0.0000, 0.0000,\n",
       "          0.0000, 0.0000, 0.0000, 0.0000, 0.0000, 0.0000, 0.0000, 0.0000,\n",
       "          0.0000, 0.0000, 0.0000, 0.0000, 0.0000, 0.0000, 0.0000, 0.0000,\n",
       "          0.0000, 0.0000, 0.0000, 0.0000],\n",
       "         [0.0000, 0.0000, 0.0000, 0.0000, 0.0000, 0.0000, 0.0000, 0.0000,\n",
       "          0.0000, 0.0000, 0.0000, 0.0000, 0.0039, 0.0000, 0.0000, 0.0510,\n",
       "          0.2863, 0.0000, 0.0000, 0.0039, 0.0157, 0.0000, 0.0000, 0.0000,\n",
       "          0.0000, 0.0039, 0.0039, 0.0000],\n",
       "         [0.0000, 0.0000, 0.0000, 0.0000, 0.0000, 0.0000, 0.0000, 0.0000,\n",
       "          0.0000, 0.0000, 0.0000, 0.0000, 0.0118, 0.0000, 0.1412, 0.5333,\n",
       "          0.4980, 0.2431, 0.2118, 0.0000, 0.0000, 0.0000, 0.0039, 0.0118,\n",
       "          0.0157, 0.0000, 0.0000, 0.0118],\n",
       "         [0.0000, 0.0000, 0.0000, 0.0000, 0.0000, 0.0000, 0.0000, 0.0000,\n",
       "          0.0000, 0.0000, 0.0000, 0.0000, 0.0235, 0.0000, 0.4000, 0.8000,\n",
       "          0.6902, 0.5255, 0.5647, 0.4824, 0.0902, 0.0000, 0.0000, 0.0000,\n",
       "          0.0000, 0.0471, 0.0392, 0.0000],\n",
       "         [0.0000, 0.0000, 0.0000, 0.0000, 0.0000, 0.0000, 0.0000, 0.0000,\n",
       "          0.0000, 0.0000, 0.0000, 0.0000, 0.0000, 0.0000, 0.6078, 0.9255,\n",
       "          0.8118, 0.6980, 0.4196, 0.6118, 0.6314, 0.4275, 0.2510, 0.0902,\n",
       "          0.3020, 0.5098, 0.2824, 0.0588],\n",
       "         [0.0000, 0.0000, 0.0000, 0.0000, 0.0000, 0.0000, 0.0000, 0.0000,\n",
       "          0.0000, 0.0000, 0.0000, 0.0039, 0.0000, 0.2706, 0.8118, 0.8745,\n",
       "          0.8549, 0.8471, 0.8471, 0.6392, 0.4980, 0.4745, 0.4784, 0.5725,\n",
       "          0.5529, 0.3451, 0.6745, 0.2588],\n",
       "         [0.0000, 0.0000, 0.0000, 0.0000, 0.0000, 0.0000, 0.0000, 0.0000,\n",
       "          0.0000, 0.0039, 0.0039, 0.0039, 0.0000, 0.7843, 0.9098, 0.9098,\n",
       "          0.9137, 0.8980, 0.8745, 0.8745, 0.8431, 0.8353, 0.6431, 0.4980,\n",
       "          0.4824, 0.7686, 0.8980, 0.0000],\n",
       "         [0.0000, 0.0000, 0.0000, 0.0000, 0.0000, 0.0000, 0.0000, 0.0000,\n",
       "          0.0000, 0.0000, 0.0000, 0.0000, 0.0000, 0.7176, 0.8824, 0.8471,\n",
       "          0.8745, 0.8941, 0.9216, 0.8902, 0.8784, 0.8706, 0.8784, 0.8667,\n",
       "          0.8745, 0.9608, 0.6784, 0.0000],\n",
       "         [0.0000, 0.0000, 0.0000, 0.0000, 0.0000, 0.0000, 0.0000, 0.0000,\n",
       "          0.0000, 0.0000, 0.0000, 0.0000, 0.0000, 0.7569, 0.8941, 0.8549,\n",
       "          0.8353, 0.7765, 0.7059, 0.8314, 0.8235, 0.8275, 0.8353, 0.8745,\n",
       "          0.8627, 0.9529, 0.7922, 0.0000],\n",
       "         [0.0000, 0.0000, 0.0000, 0.0000, 0.0000, 0.0000, 0.0000, 0.0000,\n",
       "          0.0000, 0.0039, 0.0118, 0.0000, 0.0471, 0.8588, 0.8627, 0.8314,\n",
       "          0.8549, 0.7529, 0.6627, 0.8902, 0.8157, 0.8549, 0.8784, 0.8314,\n",
       "          0.8863, 0.7725, 0.8196, 0.2039],\n",
       "         [0.0000, 0.0000, 0.0000, 0.0000, 0.0000, 0.0000, 0.0000, 0.0000,\n",
       "          0.0000, 0.0000, 0.0235, 0.0000, 0.3882, 0.9569, 0.8706, 0.8627,\n",
       "          0.8549, 0.7961, 0.7765, 0.8667, 0.8431, 0.8353, 0.8706, 0.8627,\n",
       "          0.9608, 0.4667, 0.6549, 0.2196],\n",
       "         [0.0000, 0.0000, 0.0000, 0.0000, 0.0000, 0.0000, 0.0000, 0.0000,\n",
       "          0.0000, 0.0157, 0.0000, 0.0000, 0.2157, 0.9255, 0.8941, 0.9020,\n",
       "          0.8941, 0.9412, 0.9098, 0.8353, 0.8549, 0.8745, 0.9176, 0.8510,\n",
       "          0.8510, 0.8196, 0.3608, 0.0000],\n",
       "         [0.0000, 0.0000, 0.0039, 0.0157, 0.0235, 0.0275, 0.0078, 0.0000,\n",
       "          0.0000, 0.0000, 0.0000, 0.0000, 0.9294, 0.8863, 0.8510, 0.8745,\n",
       "          0.8706, 0.8588, 0.8706, 0.8667, 0.8471, 0.8745, 0.8980, 0.8431,\n",
       "          0.8549, 1.0000, 0.3020, 0.0000],\n",
       "         [0.0000, 0.0118, 0.0000, 0.0000, 0.0000, 0.0000, 0.0000, 0.0000,\n",
       "          0.0000, 0.2431, 0.5686, 0.8000, 0.8941, 0.8118, 0.8353, 0.8667,\n",
       "          0.8549, 0.8157, 0.8275, 0.8549, 0.8784, 0.8745, 0.8588, 0.8431,\n",
       "          0.8784, 0.9569, 0.6235, 0.0000],\n",
       "         [0.0000, 0.0000, 0.0000, 0.0000, 0.0706, 0.1725, 0.3216, 0.4196,\n",
       "          0.7412, 0.8941, 0.8627, 0.8706, 0.8510, 0.8863, 0.7843, 0.8039,\n",
       "          0.8275, 0.9020, 0.8784, 0.9176, 0.6902, 0.7373, 0.9804, 0.9725,\n",
       "          0.9137, 0.9333, 0.8431, 0.0000],\n",
       "         [0.0000, 0.2235, 0.7333, 0.8157, 0.8784, 0.8667, 0.8784, 0.8157,\n",
       "          0.8000, 0.8392, 0.8157, 0.8196, 0.7843, 0.6235, 0.9608, 0.7569,\n",
       "          0.8078, 0.8745, 1.0000, 1.0000, 0.8667, 0.9176, 0.8667, 0.8275,\n",
       "          0.8627, 0.9098, 0.9647, 0.0000],\n",
       "         [0.0118, 0.7922, 0.8941, 0.8784, 0.8667, 0.8275, 0.8275, 0.8392,\n",
       "          0.8039, 0.8039, 0.8039, 0.8627, 0.9412, 0.3137, 0.5882, 1.0000,\n",
       "          0.8980, 0.8667, 0.7373, 0.6039, 0.7490, 0.8235, 0.8000, 0.8196,\n",
       "          0.8706, 0.8941, 0.8824, 0.0000],\n",
       "         [0.3843, 0.9137, 0.7765, 0.8235, 0.8706, 0.8980, 0.8980, 0.9176,\n",
       "          0.9765, 0.8627, 0.7608, 0.8431, 0.8510, 0.9451, 0.2549, 0.2863,\n",
       "          0.4157, 0.4588, 0.6588, 0.8588, 0.8667, 0.8431, 0.8510, 0.8745,\n",
       "          0.8745, 0.8784, 0.8980, 0.1137],\n",
       "         [0.2941, 0.8000, 0.8314, 0.8000, 0.7569, 0.8039, 0.8275, 0.8824,\n",
       "          0.8471, 0.7255, 0.7725, 0.8078, 0.7765, 0.8353, 0.9412, 0.7647,\n",
       "          0.8902, 0.9608, 0.9373, 0.8745, 0.8549, 0.8314, 0.8196, 0.8706,\n",
       "          0.8627, 0.8667, 0.9020, 0.2627],\n",
       "         [0.1882, 0.7961, 0.7176, 0.7608, 0.8353, 0.7725, 0.7255, 0.7451,\n",
       "          0.7608, 0.7529, 0.7922, 0.8392, 0.8588, 0.8667, 0.8627, 0.9255,\n",
       "          0.8824, 0.8471, 0.7804, 0.8078, 0.7294, 0.7098, 0.6941, 0.6745,\n",
       "          0.7098, 0.8039, 0.8078, 0.4510],\n",
       "         [0.0000, 0.4784, 0.8588, 0.7569, 0.7020, 0.6706, 0.7176, 0.7686,\n",
       "          0.8000, 0.8235, 0.8353, 0.8118, 0.8275, 0.8235, 0.7843, 0.7686,\n",
       "          0.7608, 0.7490, 0.7647, 0.7490, 0.7765, 0.7529, 0.6902, 0.6118,\n",
       "          0.6549, 0.6941, 0.8235, 0.3608],\n",
       "         [0.0000, 0.0000, 0.2902, 0.7412, 0.8314, 0.7490, 0.6863, 0.6745,\n",
       "          0.6863, 0.7098, 0.7255, 0.7373, 0.7412, 0.7373, 0.7569, 0.7765,\n",
       "          0.8000, 0.8196, 0.8235, 0.8235, 0.8275, 0.7373, 0.7373, 0.7608,\n",
       "          0.7529, 0.8471, 0.6667, 0.0000],\n",
       "         [0.0078, 0.0000, 0.0000, 0.0000, 0.2588, 0.7843, 0.8706, 0.9294,\n",
       "          0.9373, 0.9490, 0.9647, 0.9529, 0.9569, 0.8667, 0.8627, 0.7569,\n",
       "          0.7490, 0.7020, 0.7137, 0.7137, 0.7098, 0.6902, 0.6510, 0.6588,\n",
       "          0.3882, 0.2275, 0.0000, 0.0000],\n",
       "         [0.0000, 0.0000, 0.0000, 0.0000, 0.0000, 0.0000, 0.0000, 0.1569,\n",
       "          0.2392, 0.1725, 0.2824, 0.1608, 0.1373, 0.0000, 0.0000, 0.0000,\n",
       "          0.0000, 0.0000, 0.0000, 0.0000, 0.0000, 0.0000, 0.0000, 0.0000,\n",
       "          0.0000, 0.0000, 0.0000, 0.0000],\n",
       "         [0.0000, 0.0000, 0.0000, 0.0000, 0.0000, 0.0000, 0.0000, 0.0000,\n",
       "          0.0000, 0.0000, 0.0000, 0.0000, 0.0000, 0.0000, 0.0000, 0.0000,\n",
       "          0.0000, 0.0000, 0.0000, 0.0000, 0.0000, 0.0000, 0.0000, 0.0000,\n",
       "          0.0000, 0.0000, 0.0000, 0.0000],\n",
       "         [0.0000, 0.0000, 0.0000, 0.0000, 0.0000, 0.0000, 0.0000, 0.0000,\n",
       "          0.0000, 0.0000, 0.0000, 0.0000, 0.0000, 0.0000, 0.0000, 0.0000,\n",
       "          0.0000, 0.0000, 0.0000, 0.0000, 0.0000, 0.0000, 0.0000, 0.0000,\n",
       "          0.0000, 0.0000, 0.0000, 0.0000]]])"
      ]
     },
     "execution_count": 17,
     "metadata": {},
     "output_type": "execute_result"
    }
   ],
   "source": [
    "transform = transforms.Compose([\n",
    "    transforms.ToTensor(),\n",
    "    # transforms.Normalize(mean=[mean], std=[std])\n",
    "])\n",
    "\n",
    "img = train_images[0].reshape(28, 28)\n",
    "img = transform(img)\n",
    "img\n"
   ]
  },
  {
   "cell_type": "code",
   "execution_count": 18,
   "id": "962aef94",
   "metadata": {},
   "outputs": [],
   "source": [
    "# train_images = torch.tensor(train_images, dtype=torch.float32)\n",
    "# train_labels = torch.tensor(train_labels, dtype=torch.int64)"
   ]
  },
  {
   "cell_type": "code",
   "execution_count": 19,
   "id": "53652f7f-1327-4992-a78a-345921eeb854",
   "metadata": {},
   "outputs": [],
   "source": [
    "from torch.utils.data import DataLoader, Dataset\n",
    "\n",
    "\n",
    "class MyDataset(Dataset):\n",
    "    def __init__(self, path, kind, transform=None):\n",
    "        self.transform = transform\n",
    "        \n",
    "        self.images, self.labels = load_mnist(path, kind)\n",
    "        \n",
    "        self.images = torch.tensor(self.images, dtype=torch.float32)\n",
    "        self.labels = torch.tensor(self.labels, dtype=torch.int64)\n",
    "\n",
    "        # normalize\n",
    "        self.images = (self.images - self.images.mean()) / self.images.std()\n",
    "        \n",
    "    def __getitem__(self, index):\n",
    "        img = self.images[index].reshape(1, 784)\n",
    "        label = self.labels[index]\n",
    "        \n",
    "        if self.transform is not None:\n",
    "            img = self.transform(img)\n",
    "    \n",
    "        return img, label\n",
    "\n",
    "    def __len__(self):\n",
    "        return self.labels.shape[0]"
   ]
  },
  {
   "cell_type": "code",
   "execution_count": 20,
   "id": "4f75daa4",
   "metadata": {},
   "outputs": [],
   "source": [
    "# transform = transforms.Compose([\n",
    "#     transforms.ToTensor(),\n",
    "#     transforms.Normalize(mean=[mean], std=[std])\n",
    "# ])\n",
    "transform = None\n",
    "train_dataset = MyDataset(\n",
    "    'data/fashion', \n",
    "    kind='train',\n",
    "    transform=transform\n",
    ")\n",
    "\n",
    "test_dataset = MyDataset(\n",
    "    'data/fashion',\n",
    "    kind='t10k',\n",
    "    transform=transform\n",
    ")"
   ]
  },
  {
   "cell_type": "code",
   "execution_count": 21,
   "id": "6661307a-6220-48d5-b965-4cd36e29e54c",
   "metadata": {},
   "outputs": [
    {
     "data": {
      "text/plain": [
       "60000"
      ]
     },
     "execution_count": 21,
     "metadata": {},
     "output_type": "execute_result"
    }
   ],
   "source": [
    "len(train_dataset)"
   ]
  },
  {
   "cell_type": "code",
   "execution_count": 22,
   "id": "78adc94e-5418-4aac-9a82-9a9cbf8fc688",
   "metadata": {},
   "outputs": [
    {
     "data": {
      "text/plain": [
       "10000"
      ]
     },
     "execution_count": 22,
     "metadata": {},
     "output_type": "execute_result"
    }
   ],
   "source": [
    "len(test_dataset)"
   ]
  },
  {
   "attachments": {},
   "cell_type": "markdown",
   "id": "765adcf0-9147-434b-917a-f6d736a7117e",
   "metadata": {},
   "source": [
    "### Create a validation set"
   ]
  },
  {
   "cell_type": "code",
   "execution_count": 23,
   "id": "b39a42a2-cd46-46cf-ba93-d3f2f232f29c",
   "metadata": {},
   "outputs": [
    {
     "name": "stdout",
     "output_type": "stream",
     "text": [
      "50000 10000\n"
     ]
    }
   ],
   "source": [
    "import torch\n",
    "from torch.utils.data.dataset import random_split\n",
    "\n",
    "torch.manual_seed(1)\n",
    "train_dataset, val_dataset = random_split(train_dataset, lengths=[50000, 10000])\n",
    "print(len(train_dataset), len(val_dataset))"
   ]
  },
  {
   "cell_type": "code",
   "execution_count": 24,
   "id": "b30e4a70-55b3-4fb0-b28d-b0fddd193fae",
   "metadata": {},
   "outputs": [],
   "source": [
    "train_loader = DataLoader(\n",
    "    dataset=train_dataset,\n",
    "    batch_size=64,\n",
    "    shuffle=True,\n",
    ")\n",
    "\n",
    "val_loader = DataLoader(\n",
    "    dataset=val_dataset,\n",
    "    batch_size=64,\n",
    "    shuffle=False,\n",
    ")\n",
    "\n",
    "test_loader = DataLoader(\n",
    "    dataset=test_dataset,\n",
    "    batch_size=64,\n",
    "    shuffle=False,\n",
    ")"
   ]
  },
  {
   "cell_type": "code",
   "execution_count": 25,
   "id": "219eb363",
   "metadata": {},
   "outputs": [
    {
     "name": "stdout",
     "output_type": "stream",
     "text": [
      "tensor([[-0.8103, -0.8103, -0.8103, -0.8103, -0.8103, -0.8103, -0.8103, -0.8103,\n",
      "         -0.8103, -0.8103, -0.8103, -0.8103,  0.1117,  0.7116,  0.1229,  0.6783,\n",
      "         -0.0882, -0.8103, -0.8103, -0.8103, -0.7880, -0.8103, -0.8103, -0.8103,\n",
      "         -0.8103, -0.8103, -0.8103, -0.8103, -0.8103, -0.8103, -0.8103, -0.8103,\n",
      "         -0.8103, -0.8103, -0.8103, -0.7991, -0.8103, -0.8103, -0.3992,  0.4561,\n",
      "          1.3670,  1.3559,  0.7671,  1.5447,  1.3892,  0.3228, -0.4104, -0.8103,\n",
      "         -0.8103, -0.7991, -0.8103, -0.8103, -0.8103, -0.8103, -0.8103, -0.8103,\n",
      "         -0.8103, -0.8103, -0.8103, -0.8103, -0.8103, -0.8103, -0.8103, -0.8103,\n",
      "         -0.8103,  0.9560,  1.1893,  1.1559,  1.2226,  1.1004,  1.4226,  1.6225,\n",
      "          1.1782,  1.0226,  1.1004,  0.8449, -0.8103, -0.8103, -0.8103, -0.8103,\n",
      "         -0.8103, -0.8103, -0.8103, -0.8103, -0.8103, -0.8103, -0.8103, -0.8103,\n",
      "         -0.8103, -0.8103, -0.8103, -0.8103, -0.3881,  1.0893,  0.8893,  1.0338,\n",
      "          1.4114,  1.1893,  0.7560,  1.4114,  1.2448,  0.8893,  0.7449,  1.0338,\n",
      "         -0.2437, -0.8103, -0.8103, -0.8103, -0.8103, -0.8103, -0.8103, -0.8103,\n",
      "         -0.8103, -0.8103, -0.8103, -0.8103, -0.8103, -0.8103, -0.8103, -0.8103,\n",
      "          0.2784,  1.1782,  0.9449,  0.9782,  0.8005,  1.3004,  1.5003,  1.0560,\n",
      "          0.8116,  0.8116,  0.8671,  1.0004,  0.2895, -0.8103, -0.8103, -0.8103,\n",
      "         -0.8103, -0.8103, -0.8103, -0.8103, -0.8103, -0.8103, -0.8103, -0.8103,\n",
      "         -0.8103, -0.8103, -0.8103, -0.8103,  0.4339,  1.5781,  1.1115,  1.0004,\n",
      "          1.0338,  0.8449,  1.1004,  0.9782,  0.9116,  0.8338,  0.8449,  1.1782,\n",
      "          0.8116, -0.8103, -0.8103, -0.8103, -0.8103, -0.8103, -0.8103, -0.8103,\n",
      "         -0.8103, -0.8103, -0.8103, -0.8103, -0.8103, -0.8103, -0.8103, -0.8103,\n",
      "          0.7338,  1.5114,  1.4559,  0.7227,  0.8227,  0.8116,  0.9671,  0.7560,\n",
      "          0.7449,  0.4783,  1.2781,  1.4226,  0.9449, -0.8103, -0.8103, -0.8103,\n",
      "         -0.8103, -0.8103, -0.8103, -0.8103, -0.8103, -0.8103, -0.8103, -0.8103,\n",
      "         -0.8103, -0.8103, -0.8103, -0.8103,  0.9449,  1.3448,  1.7003,  1.2670,\n",
      "          1.1337,  1.1115,  1.2670,  1.0782,  1.0449,  0.7783,  1.4114,  1.2892,\n",
      "          1.0115, -0.7880, -0.8103, -0.8103, -0.8103, -0.8103, -0.8103, -0.8103,\n",
      "         -0.8103, -0.8103, -0.8103, -0.8103, -0.8103, -0.8103, -0.8103, -0.8103,\n",
      "          1.2004,  1.2670,  1.7225,  1.1226,  0.7783,  0.9560,  0.8893,  0.9005,\n",
      "          0.7116,  0.6783,  1.2337,  1.2337,  1.2448, -0.4770, -0.8103, -0.8103,\n",
      "         -0.8103, -0.8103, -0.8103, -0.8103, -0.8103, -0.8103, -0.8103, -0.8103,\n",
      "         -0.8103, -0.8103, -0.8103, -0.7880,  1.2892,  1.2448,  1.7669,  1.5336,\n",
      "          1.0004,  1.1115,  1.2781,  1.1782,  1.0004,  0.8560,  1.3892,  1.4003,\n",
      "          1.2670, -0.2326, -0.8103, -0.8103, -0.8103, -0.8103, -0.8103, -0.8103,\n",
      "         -0.8103, -0.8103, -0.8103, -0.8103, -0.8103, -0.8103, -0.8103, -0.3548,\n",
      "          1.3892,  1.2337,  1.6225,  1.4226,  0.9449,  0.8560,  1.1337,  1.0004,\n",
      "          0.7338,  0.7227,  0.9893,  1.4114,  1.2226, -0.0327, -0.8103, -0.8103,\n",
      "         -0.8103, -0.8103, -0.8103, -0.8103, -0.8103, -0.8103, -0.8103, -0.8103,\n",
      "         -0.8103, -0.8103, -0.8103, -0.1104,  1.1448,  1.2337,  1.5559,  1.1782,\n",
      "          1.1893,  1.1115,  1.2670,  1.2670,  1.0226,  0.9338,  1.0226,  1.2670,\n",
      "          1.1448,  0.0229, -0.8103, -0.8103, -0.8103, -0.8103, -0.8103, -0.8103,\n",
      "         -0.8103, -0.8103, -0.8103, -0.8103, -0.8103, -0.8103, -0.8103,  0.1895,\n",
      "          1.3004,  1.2781,  1.2448,  0.9671,  1.1337,  0.9005,  0.9893,  0.9893,\n",
      "          0.6450,  0.7894,  0.6450,  1.2004,  1.3337,  0.3784, -0.8103, -0.8103,\n",
      "         -0.8103, -0.8103, -0.8103, -0.8103, -0.8103, -0.8103, -0.8103, -0.8103,\n",
      "         -0.8103, -0.8103, -0.8103,  0.4228,  1.0893,  1.3337,  1.4337,  1.3115,\n",
      "          1.3226,  1.3670,  1.4559,  1.3115,  1.0004,  1.0115,  0.9560,  1.2892,\n",
      "          1.3004,  0.3784, -0.8103, -0.8103, -0.8103, -0.8103, -0.8103, -0.8103,\n",
      "         -0.8103, -0.8103, -0.8103, -0.8103, -0.8103, -0.8103, -0.8103,  0.8893,\n",
      "          1.2115,  1.3559,  1.0560,  1.0782,  0.8893,  0.9560,  1.0338,  1.1004,\n",
      "          0.8116,  0.7560,  0.6450,  1.1448,  1.3892,  0.5117, -0.8103, -0.8103,\n",
      "         -0.8103, -0.8103, -0.8103, -0.8103, -0.8103, -0.8103, -0.8103, -0.8103,\n",
      "         -0.8103, -0.8103, -0.8103,  0.8338,  1.2226,  1.4781,  1.3337,  1.4003,\n",
      "          1.2559,  1.2892,  1.3004,  1.3226,  1.2448,  1.0671,  0.9338,  1.3004,\n",
      "          1.6114,  0.6116, -0.8103, -0.8103, -0.8103, -0.8103, -0.8103, -0.8103,\n",
      "         -0.8103, -0.8103, -0.8103, -0.8103, -0.8103, -0.8103, -0.8103,  0.6894,\n",
      "          1.3448,  1.4559,  1.1782,  1.2337,  1.0893,  1.1004,  1.0782,  1.0671,\n",
      "          1.1782,  0.9338,  0.7227,  1.1448,  1.3559,  0.4006, -0.8103, -0.8103,\n",
      "         -0.8103, -0.8103, -0.8103, -0.8103, -0.8103, -0.8103, -0.8103, -0.8103,\n",
      "         -0.8103, -0.8103, -0.8103,  0.5117,  1.3559,  1.4337,  1.5336,  1.3004,\n",
      "          1.2337,  1.2448,  1.2559,  1.1337,  1.2004,  1.0338,  1.0338,  1.4670,\n",
      "          1.4114,  0.1117, -0.8103, -0.8103, -0.8103, -0.8103, -0.8103, -0.8103,\n",
      "         -0.8103, -0.8103, -0.8103, -0.8103, -0.8103, -0.8103, -0.8103,  0.7894,\n",
      "          1.5670,  1.2115,  1.3226,  1.5781,  1.4670,  1.5670,  1.3226,  1.6447,\n",
      "          1.7114,  1.7225,  0.8338,  1.3670,  1.7003,  0.1673, -0.8103, -0.8103,\n",
      "         -0.8103, -0.8103, -0.8103, -0.8103, -0.8103, -0.8103, -0.8103, -0.8103,\n",
      "         -0.8103, -0.8103, -0.8103, -0.8103, -0.5770,  1.7003,  1.4337,  1.4337,\n",
      "          1.0004,  1.4892,  0.9005,  1.0560,  1.1337,  1.6669,  1.0560,  1.6892,\n",
      "         -0.8103, -0.8103, -0.8103, -0.8103, -0.8103, -0.8103, -0.8103, -0.8103,\n",
      "         -0.8103, -0.8103, -0.8103, -0.8103, -0.8103, -0.8103, -0.8103, -0.8103,\n",
      "         -0.1660,  1.4781,  1.3781,  1.4892,  1.2004,  1.4670,  1.2226,  1.3226,\n",
      "          1.3337,  1.8669,  1.0449,  2.0224, -0.7214, -0.8103, -0.8103, -0.8103,\n",
      "         -0.8103, -0.8103, -0.8103, -0.8103, -0.8103, -0.8103, -0.8103, -0.8103,\n",
      "         -0.8103, -0.8103, -0.8103, -0.8103,  0.2006,  1.4781,  1.5670,  1.3448,\n",
      "          1.1004,  1.3670,  0.9893,  0.9671,  1.1004,  1.8225,  1.0560,  1.5670,\n",
      "         -0.4104, -0.8103, -0.8103, -0.8103, -0.8103, -0.8103, -0.8103, -0.8103,\n",
      "         -0.8103, -0.8103, -0.8103, -0.8103, -0.8103, -0.8103, -0.8103, -0.8103,\n",
      "          0.5339,  1.3559,  1.5114,  1.2892,  1.2115,  1.5559,  1.1448,  1.3226,\n",
      "          1.4114,  1.9446,  1.0560,  1.6336, -0.1660, -0.8103, -0.8103, -0.8103,\n",
      "         -0.8103, -0.8103, -0.8103, -0.8103, -0.8103, -0.8103, -0.8103, -0.8103,\n",
      "         -0.8103, -0.8103, -0.8103, -0.8103,  0.6338,  1.3781,  1.6669,  1.3226,\n",
      "          1.1782,  1.5003,  1.0560,  1.2004,  1.0782,  1.9002,  1.1782,  1.5447,\n",
      "          0.1451, -0.8103, -0.8103, -0.8103, -0.8103, -0.8103, -0.8103, -0.8103,\n",
      "         -0.8103, -0.8103, -0.8103, -0.8103, -0.8103, -0.8103, -0.8103, -0.8103,\n",
      "          1.0449,  1.3559,  1.6336,  1.2337,  1.2115,  1.5892,  1.0560,  1.2559,\n",
      "          1.2892,  1.7669,  1.0893,  1.6669,  0.7783, -0.8103, -0.8103, -0.8103,\n",
      "         -0.8103, -0.8103, -0.8103, -0.8103, -0.8103, -0.8103, -0.8103, -0.8103,\n",
      "         -0.8103, -0.8103, -0.8103, -0.8103,  0.9227,  1.3448,  1.7114,  1.3004,\n",
      "          1.3004,  1.5114,  1.0782,  1.2892,  1.2670,  1.7780,  1.2448,  1.5781,\n",
      "          0.7783, -0.8103, -0.8103, -0.8103, -0.8103, -0.8103, -0.8103, -0.8103,\n",
      "         -0.8103, -0.8103, -0.8103, -0.8103, -0.8103, -0.8103, -0.8103, -0.8103,\n",
      "          1.3892,  1.3448,  1.6669,  1.4114,  1.6336,  1.6780,  1.5559,  1.7114,\n",
      "          1.7114,  1.9113,  1.3337,  1.5336,  0.7005, -0.8103, -0.8103, -0.8103,\n",
      "         -0.8103, -0.8103, -0.8103, -0.8103, -0.8103, -0.8103, -0.8103, -0.8103,\n",
      "         -0.8103, -0.8103, -0.8103, -0.8103, -0.8103, -0.8103, -0.4881,  0.3672,\n",
      "          0.1562,  0.4450,  0.3339, -0.2326, -0.6770,  0.1784,  0.7227, -0.7214,\n",
      "         -0.8103, -0.8103, -0.8103, -0.8103, -0.8103, -0.8103, -0.8103, -0.8103]])\n"
     ]
    }
   ],
   "source": [
    "for images, labels in train_loader:\n",
    "    print(images[0])\n",
    "    # print(labels.shape)\n",
    "    break"
   ]
  },
  {
   "attachments": {},
   "cell_type": "markdown",
   "id": "db50db02-3696-4f86-b149-74baabeec6c4",
   "metadata": {},
   "source": [
    "## 3) Implementing the model"
   ]
  },
  {
   "cell_type": "code",
   "execution_count": 26,
   "id": "971389a7-5424-4141-a3ee-9399eebbbb6a",
   "metadata": {},
   "outputs": [],
   "source": [
    "import torch\n",
    "\n",
    "class PyTorchMLP(torch.nn.Module):\n",
    "    def __init__(self, num_features, num_classes):\n",
    "        super().__init__()\n",
    "\n",
    "        self.all_layers = torch.nn.Sequential(\n",
    "            # 1st hidden layer\n",
    "            torch.nn.Linear(num_features, 128),\n",
    "            torch.nn.ReLU(),\n",
    "            # 2nd hidden layer\n",
    "            torch.nn.Linear(128, 64),\n",
    "            torch.nn.ReLU(),\n",
    "            # 3d hidden layer\n",
    "            torch.nn.Linear(64, 32),\n",
    "            torch.nn.ReLU(),\n",
    "            # output layer\n",
    "            torch.nn.Linear(32, num_classes),\n",
    "        )\n",
    "\n",
    "    def forward(self, x):\n",
    "        x = torch.flatten(x, start_dim=1)\n",
    "        logits = self.all_layers(x)\n",
    "        return logits"
   ]
  },
  {
   "attachments": {},
   "cell_type": "markdown",
   "id": "46bc16a0-ec59-4c54-a209-0a5e22406287",
   "metadata": {},
   "source": [
    "## 4) The training loop"
   ]
  },
  {
   "cell_type": "code",
   "execution_count": 27,
   "id": "8de213fc-48b0-4f7c-af9e-8e2da068e351",
   "metadata": {},
   "outputs": [],
   "source": [
    "def compute_accuracy(model, dataloader):\n",
    "\n",
    "    model = model.eval()\n",
    "\n",
    "    correct = 0.0\n",
    "    total_examples = 0\n",
    "\n",
    "    for idx, (features, labels) in enumerate(dataloader):\n",
    "\n",
    "        with torch.no_grad():\n",
    "            logits = model(features)\n",
    "\n",
    "        predictions = torch.argmax(logits, dim=1)\n",
    "\n",
    "        compare = labels == predictions\n",
    "        correct += torch.sum(compare)\n",
    "        total_examples += len(compare)\n",
    "\n",
    "    return correct / total_examples"
   ]
  },
  {
   "cell_type": "code",
   "execution_count": 28,
   "id": "3dcaa2b1-4019-4128-9ff5-6a966c3abdf2",
   "metadata": {},
   "outputs": [
    {
     "name": "stdout",
     "output_type": "stream",
     "text": [
      "Epoch: 001/030 | Batch 000/782 | Train Loss: 2.31\n",
      "Epoch: 001/030 | Batch 250/782 | Train Loss: 1.53\n",
      "Epoch: 001/030 | Batch 500/782 | Train Loss: 0.81\n",
      "Epoch: 001/030 | Batch 750/782 | Train Loss: 0.65\n",
      "Train Acc 75.22% | Val Acc 75.09%\n",
      "Epoch: 002/030 | Batch 000/782 | Train Loss: 0.74\n",
      "Epoch: 002/030 | Batch 250/782 | Train Loss: 0.78\n",
      "Epoch: 002/030 | Batch 500/782 | Train Loss: 0.38\n",
      "Epoch: 002/030 | Batch 750/782 | Train Loss: 0.48\n",
      "Train Acc 80.45% | Val Acc 80.44%\n",
      "Epoch: 003/030 | Batch 000/782 | Train Loss: 0.47\n",
      "Epoch: 003/030 | Batch 250/782 | Train Loss: 0.48\n",
      "Epoch: 003/030 | Batch 500/782 | Train Loss: 0.55\n",
      "Epoch: 003/030 | Batch 750/782 | Train Loss: 0.46\n",
      "Train Acc 81.36% | Val Acc 80.91%\n",
      "Epoch: 004/030 | Batch 000/782 | Train Loss: 0.63\n",
      "Epoch: 004/030 | Batch 250/782 | Train Loss: 0.51\n",
      "Epoch: 004/030 | Batch 500/782 | Train Loss: 0.47\n",
      "Epoch: 004/030 | Batch 750/782 | Train Loss: 0.40\n",
      "Train Acc 82.99% | Val Acc 82.57%\n",
      "Epoch: 005/030 | Batch 000/782 | Train Loss: 0.54\n",
      "Epoch: 005/030 | Batch 250/782 | Train Loss: 0.45\n",
      "Epoch: 005/030 | Batch 500/782 | Train Loss: 0.34\n",
      "Epoch: 005/030 | Batch 750/782 | Train Loss: 0.73\n",
      "Train Acc 84.19% | Val Acc 83.84%\n",
      "Epoch: 006/030 | Batch 000/782 | Train Loss: 0.27\n",
      "Epoch: 006/030 | Batch 250/782 | Train Loss: 0.38\n",
      "Epoch: 006/030 | Batch 500/782 | Train Loss: 0.35\n",
      "Epoch: 006/030 | Batch 750/782 | Train Loss: 0.37\n",
      "Train Acc 84.79% | Val Acc 83.99%\n",
      "Epoch: 007/030 | Batch 000/782 | Train Loss: 0.62\n",
      "Epoch: 007/030 | Batch 250/782 | Train Loss: 0.39\n",
      "Epoch: 007/030 | Batch 500/782 | Train Loss: 0.44\n",
      "Epoch: 007/030 | Batch 750/782 | Train Loss: 0.65\n",
      "Train Acc 85.20% | Val Acc 84.38%\n",
      "Epoch: 008/030 | Batch 000/782 | Train Loss: 0.45\n",
      "Epoch: 008/030 | Batch 250/782 | Train Loss: 0.47\n",
      "Epoch: 008/030 | Batch 500/782 | Train Loss: 0.31\n",
      "Epoch: 008/030 | Batch 750/782 | Train Loss: 0.49\n",
      "Train Acc 86.86% | Val Acc 85.73%\n",
      "Epoch: 009/030 | Batch 000/782 | Train Loss: 0.22\n",
      "Epoch: 009/030 | Batch 250/782 | Train Loss: 0.33\n",
      "Epoch: 009/030 | Batch 500/782 | Train Loss: 0.31\n",
      "Epoch: 009/030 | Batch 750/782 | Train Loss: 0.50\n",
      "Train Acc 87.48% | Val Acc 86.52%\n",
      "Epoch: 010/030 | Batch 000/782 | Train Loss: 0.23\n",
      "Epoch: 010/030 | Batch 250/782 | Train Loss: 0.41\n",
      "Epoch: 010/030 | Batch 500/782 | Train Loss: 0.43\n",
      "Epoch: 010/030 | Batch 750/782 | Train Loss: 0.34\n",
      "Train Acc 85.15% | Val Acc 83.89%\n",
      "Epoch: 011/030 | Batch 000/782 | Train Loss: 0.46\n",
      "Epoch: 011/030 | Batch 250/782 | Train Loss: 0.13\n",
      "Epoch: 011/030 | Batch 500/782 | Train Loss: 0.31\n",
      "Epoch: 011/030 | Batch 750/782 | Train Loss: 0.26\n",
      "Train Acc 87.97% | Val Acc 86.32%\n",
      "Epoch: 012/030 | Batch 000/782 | Train Loss: 0.23\n",
      "Epoch: 012/030 | Batch 250/782 | Train Loss: 0.55\n",
      "Epoch: 012/030 | Batch 500/782 | Train Loss: 0.30\n",
      "Epoch: 012/030 | Batch 750/782 | Train Loss: 0.36\n",
      "Train Acc 88.08% | Val Acc 86.46%\n",
      "Epoch: 013/030 | Batch 000/782 | Train Loss: 0.35\n",
      "Epoch: 013/030 | Batch 250/782 | Train Loss: 0.27\n",
      "Epoch: 013/030 | Batch 500/782 | Train Loss: 0.15\n",
      "Epoch: 013/030 | Batch 750/782 | Train Loss: 0.20\n",
      "Train Acc 88.75% | Val Acc 87.04%\n",
      "Epoch: 014/030 | Batch 000/782 | Train Loss: 0.27\n",
      "Epoch: 014/030 | Batch 250/782 | Train Loss: 0.29\n",
      "Epoch: 014/030 | Batch 500/782 | Train Loss: 0.33\n",
      "Epoch: 014/030 | Batch 750/782 | Train Loss: 0.35\n",
      "Train Acc 89.17% | Val Acc 87.18%\n",
      "Epoch: 015/030 | Batch 000/782 | Train Loss: 0.29\n",
      "Epoch: 015/030 | Batch 250/782 | Train Loss: 0.24\n",
      "Epoch: 015/030 | Batch 500/782 | Train Loss: 0.31\n",
      "Epoch: 015/030 | Batch 750/782 | Train Loss: 0.37\n",
      "Train Acc 86.78% | Val Acc 85.18%\n",
      "Epoch: 016/030 | Batch 000/782 | Train Loss: 0.35\n",
      "Epoch: 016/030 | Batch 250/782 | Train Loss: 0.17\n",
      "Epoch: 016/030 | Batch 500/782 | Train Loss: 0.52\n",
      "Epoch: 016/030 | Batch 750/782 | Train Loss: 0.27\n",
      "Train Acc 88.58% | Val Acc 86.73%\n",
      "Epoch: 017/030 | Batch 000/782 | Train Loss: 0.17\n",
      "Epoch: 017/030 | Batch 250/782 | Train Loss: 0.34\n",
      "Epoch: 017/030 | Batch 500/782 | Train Loss: 0.25\n",
      "Epoch: 017/030 | Batch 750/782 | Train Loss: 0.18\n",
      "Train Acc 90.10% | Val Acc 87.87%\n",
      "Epoch: 018/030 | Batch 000/782 | Train Loss: 0.39\n",
      "Epoch: 018/030 | Batch 250/782 | Train Loss: 0.34\n",
      "Epoch: 018/030 | Batch 500/782 | Train Loss: 0.28\n",
      "Epoch: 018/030 | Batch 750/782 | Train Loss: 0.30\n",
      "Train Acc 89.87% | Val Acc 87.71%\n",
      "Epoch: 019/030 | Batch 000/782 | Train Loss: 0.26\n",
      "Epoch: 019/030 | Batch 250/782 | Train Loss: 0.22\n",
      "Epoch: 019/030 | Batch 500/782 | Train Loss: 0.22\n",
      "Epoch: 019/030 | Batch 750/782 | Train Loss: 0.44\n",
      "Train Acc 87.71% | Val Acc 85.37%\n",
      "Epoch: 020/030 | Batch 000/782 | Train Loss: 0.39\n",
      "Epoch: 020/030 | Batch 250/782 | Train Loss: 0.24\n",
      "Epoch: 020/030 | Batch 500/782 | Train Loss: 0.19\n",
      "Epoch: 020/030 | Batch 750/782 | Train Loss: 0.18\n",
      "Train Acc 90.35% | Val Acc 87.87%\n",
      "Epoch: 021/030 | Batch 000/782 | Train Loss: 0.29\n",
      "Epoch: 021/030 | Batch 250/782 | Train Loss: 0.32\n",
      "Epoch: 021/030 | Batch 500/782 | Train Loss: 0.24\n",
      "Epoch: 021/030 | Batch 750/782 | Train Loss: 0.28\n",
      "Train Acc 90.49% | Val Acc 88.00%\n",
      "Epoch: 022/030 | Batch 000/782 | Train Loss: 0.20\n",
      "Epoch: 022/030 | Batch 250/782 | Train Loss: 0.17\n",
      "Epoch: 022/030 | Batch 500/782 | Train Loss: 0.28\n",
      "Epoch: 022/030 | Batch 750/782 | Train Loss: 0.37\n",
      "Train Acc 85.92% | Val Acc 83.36%\n",
      "Epoch: 023/030 | Batch 000/782 | Train Loss: 0.44\n",
      "Epoch: 023/030 | Batch 250/782 | Train Loss: 0.18\n",
      "Epoch: 023/030 | Batch 500/782 | Train Loss: 0.25\n",
      "Epoch: 023/030 | Batch 750/782 | Train Loss: 0.51\n",
      "Train Acc 90.71% | Val Acc 87.81%\n",
      "Epoch: 024/030 | Batch 000/782 | Train Loss: 0.29\n",
      "Epoch: 024/030 | Batch 250/782 | Train Loss: 0.36\n",
      "Epoch: 024/030 | Batch 500/782 | Train Loss: 0.38\n",
      "Epoch: 024/030 | Batch 750/782 | Train Loss: 0.45\n",
      "Train Acc 90.64% | Val Acc 87.60%\n",
      "Epoch: 025/030 | Batch 000/782 | Train Loss: 0.15\n",
      "Epoch: 025/030 | Batch 250/782 | Train Loss: 0.19\n",
      "Epoch: 025/030 | Batch 500/782 | Train Loss: 0.21\n",
      "Epoch: 025/030 | Batch 750/782 | Train Loss: 0.31\n",
      "Train Acc 90.51% | Val Acc 87.80%\n",
      "Epoch: 026/030 | Batch 000/782 | Train Loss: 0.25\n",
      "Epoch: 026/030 | Batch 250/782 | Train Loss: 0.21\n",
      "Epoch: 026/030 | Batch 500/782 | Train Loss: 0.20\n",
      "Epoch: 026/030 | Batch 750/782 | Train Loss: 0.27\n",
      "Train Acc 90.92% | Val Acc 87.26%\n",
      "Epoch: 027/030 | Batch 000/782 | Train Loss: 0.38\n",
      "Epoch: 027/030 | Batch 250/782 | Train Loss: 0.37\n",
      "Epoch: 027/030 | Batch 500/782 | Train Loss: 0.28\n",
      "Epoch: 027/030 | Batch 750/782 | Train Loss: 0.19\n",
      "Train Acc 91.40% | Val Acc 87.84%\n",
      "Epoch: 028/030 | Batch 000/782 | Train Loss: 0.14\n",
      "Epoch: 028/030 | Batch 250/782 | Train Loss: 0.12\n",
      "Epoch: 028/030 | Batch 500/782 | Train Loss: 0.37\n",
      "Epoch: 028/030 | Batch 750/782 | Train Loss: 0.19\n",
      "Train Acc 91.48% | Val Acc 88.00%\n",
      "Epoch: 029/030 | Batch 000/782 | Train Loss: 0.24\n",
      "Epoch: 029/030 | Batch 250/782 | Train Loss: 0.15\n",
      "Epoch: 029/030 | Batch 500/782 | Train Loss: 0.21\n",
      "Epoch: 029/030 | Batch 750/782 | Train Loss: 0.22\n",
      "Train Acc 91.33% | Val Acc 87.73%\n",
      "Epoch: 030/030 | Batch 000/782 | Train Loss: 0.23\n",
      "Epoch: 030/030 | Batch 250/782 | Train Loss: 0.19\n",
      "Epoch: 030/030 | Batch 500/782 | Train Loss: 0.17\n",
      "Epoch: 030/030 | Batch 750/782 | Train Loss: 0.19\n",
      "Train Acc 92.08% | Val Acc 88.42%\n"
     ]
    }
   ],
   "source": [
    "import torch.nn.functional as F\n",
    "\n",
    "torch.manual_seed(1)\n",
    "model = PyTorchMLP(num_features=784, num_classes=10)\n",
    "\n",
    "optimizer = torch.optim.SGD(model.parameters(), lr=0.01)\n",
    "\n",
    "num_epochs = 30\n",
    "\n",
    "loss_list = []\n",
    "train_acc_list, val_acc_list = [], []\n",
    "for epoch in range(num_epochs):\n",
    "\n",
    "    model = model.train()\n",
    "    for batch_idx, (features, labels) in enumerate(train_loader):\n",
    "\n",
    "        logits = model(features)\n",
    "\n",
    "        loss = F.cross_entropy(logits, labels)\n",
    "\n",
    "        optimizer.zero_grad()\n",
    "        loss.backward()\n",
    "        optimizer.step()\n",
    "\n",
    "        if not batch_idx % 250:\n",
    "            ### LOGGING\n",
    "            print(\n",
    "                f\"Epoch: {epoch+1:03d}/{num_epochs:03d}\"\n",
    "                f\" | Batch {batch_idx:03d}/{len(train_loader):03d}\"\n",
    "                f\" | Train Loss: {loss:.2f}\"\n",
    "            )\n",
    "        loss_list.append(loss.item())\n",
    "        \n",
    "    train_acc = compute_accuracy(model, train_loader)\n",
    "    val_acc = compute_accuracy(model, val_loader)\n",
    "    print(f\"Train Acc {train_acc*100:.2f}% | Val Acc {val_acc*100:.2f}%\")\n",
    "    train_acc_list.append(train_acc)\n",
    "    val_acc_list.append(val_acc)"
   ]
  },
  {
   "attachments": {},
   "cell_type": "markdown",
   "id": "bb0d5821-7c8d-46b5-9e7d-02e72cac2acc",
   "metadata": {},
   "source": [
    "## 5) Evaluating the results"
   ]
  },
  {
   "cell_type": "code",
   "execution_count": 29,
   "id": "27538c8d-61bc-47b0-8289-b6aab4aa16ed",
   "metadata": {},
   "outputs": [
    {
     "name": "stdout",
     "output_type": "stream",
     "text": [
      "Train Acc 92.08%\n",
      "Val Acc 88.42%\n",
      "Test Acc 87.68%\n"
     ]
    }
   ],
   "source": [
    "train_acc = compute_accuracy(model, train_loader)\n",
    "val_acc = compute_accuracy(model, val_loader)\n",
    "test_acc = compute_accuracy(model, test_loader)\n",
    "\n",
    "print(f\"Train Acc {train_acc*100:.2f}%\")\n",
    "print(f\"Val Acc {val_acc*100:.2f}%\")\n",
    "print(f\"Test Acc {test_acc*100:.2f}%\")"
   ]
  },
  {
   "cell_type": "code",
   "execution_count": 30,
   "id": "0f1f8499-3191-4f78-b2d4-82daba9b9bc0",
   "metadata": {},
   "outputs": [
    {
     "data": {
      "image/png": "[encoded data removed]",
      "text/plain": [
       "<Figure size 640x480 with 2 Axes>"
      ]
     },
     "metadata": {},
     "output_type": "display_data"
    }
   ],
   "source": [
    "from helper_plotting import plot_training_loss\n",
    "\n",
    "plot_training_loss(minibatch_loss_list=loss_list,\n",
    "                   num_epochs=num_epochs,\n",
    "                   iter_per_epoch=len(loss_list)//num_epochs)"
   ]
  },
  {
   "cell_type": "code",
   "execution_count": 31,
   "id": "bf9d4519-b7a2-4382-90d0-a0dce2ee608e",
   "metadata": {},
   "outputs": [
    {
     "data": {
      "image/png": "[encoded data removed]",
      "text/plain": [
       "<Figure size 640x480 with 1 Axes>"
      ]
     },
     "metadata": {},
     "output_type": "display_data"
    }
   ],
   "source": [
    "from helper_plotting import plot_accuracy\n",
    "\n",
    "plot_accuracy(train_acc_list=train_acc_list, valid_acc_list=val_acc_list)"
   ]
  },
  {
   "attachments": {},
   "cell_type": "markdown",
   "id": "944dea95",
   "metadata": {},
   "source": [
    "# Now let's try wraping our model with Lightning"
   ]
  },
  {
   "cell_type": "code",
   "execution_count": 29,
   "id": "6807e653",
   "metadata": {},
   "outputs": [],
   "source": [
    "import torch\n",
    "import torch.nn as nn\n",
    "import lightning as L\n",
    "import torchmetrics\n",
    "from lightning.pytorch.tuner import Tuner\n",
    "from torch.utils.data import DataLoader, Dataset, random_split\n",
    "from lightning.pytorch.loggers import CSVLogger\n",
    "import torch.nn.functional as F"
   ]
  },
  {
   "cell_type": "code",
   "execution_count": 84,
   "id": "88da1b4e",
   "metadata": {},
   "outputs": [],
   "source": [
    "class PyTorchMLP(torch.nn.Module):\n",
    "    def __init__(self, num_features, num_classes):\n",
    "        super().__init__()\n",
    "\n",
    "        self.all_layers = torch.nn.Sequential(\n",
    "            # 1st hidden layer\n",
    "            torch.nn.Linear(num_features, 128),\n",
    "            torch.nn.ReLU(),\n",
    "            # 2nd hidden layer\n",
    "            torch.nn.Linear(128, 64),\n",
    "            torch.nn.ReLU(),\n",
    "            # 3d hidden layer\n",
    "            torch.nn.Linear(64, 32),\n",
    "            torch.nn.ReLU(),\n",
    "            # output layer\n",
    "            torch.nn.Linear(32, num_classes),\n",
    "        )\n",
    "\n",
    "    def forward(self, x):\n",
    "        x = torch.flatten(x, start_dim=1)\n",
    "        logits = self.all_layers(x)\n",
    "        return logits"
   ]
  },
  {
   "cell_type": "code",
   "execution_count": 179,
   "id": "62dbf088",
   "metadata": {},
   "outputs": [],
   "source": [
    "class LightningModel(L.LightningModule):\n",
    "    def __init__(self, model, learning_rate):\n",
    "        super().__init__()\n",
    "        self.model = model\n",
    "        self.learning_rate = learning_rate\n",
    "\n",
    "        self.save_hyperparameters(ignore = ['model'])\n",
    "\n",
    "        self.train_acc = torchmetrics.Accuracy(task = 'multiclass', num_classes=10)\n",
    "        self.val_acc = torchmetrics.Accuracy(task = 'multiclass', num_classes=10)\n",
    "        self.test_acc = torchmetrics.Accuracy(task = 'multiclass', num_classes=10)\n",
    "\n",
    "    def forward(self, x):\n",
    "        return self.model(x)\n",
    "    \n",
    "    def _shared_step(self, batch):\n",
    "        features, labels = batch\n",
    "        logits = self(features)\n",
    "\n",
    "        loss = F.cross_entropy(logits, labels)\n",
    "        preds = torch.argmax(logits, dim=1)\n",
    "        return loss, labels, preds\n",
    "    \n",
    "    def training_step(self, batch, batch_idx):\n",
    "        loss, labels, preds = self._shared_step(batch)\n",
    "        \n",
    "        self.log('train_loss', loss)\n",
    "        \n",
    "        self.train_acc(preds, labels)\n",
    "        self.log(\n",
    "            'train_acc', self.train_acc, on_step=False, on_epoch=True, prog_bar=True\n",
    "        )\n",
    "        return loss\n",
    "    \n",
    "    def validation_step(self, batch, batch_idx):\n",
    "        loss, labels, preds = self._shared_step(batch)\n",
    "\n",
    "        self.log('val_loss', loss, prog_bar=True)\n",
    "        \n",
    "        self.val_acc(preds, labels)\n",
    "        self.log('val_acc', self.val_acc, on_step=False, on_epoch=True, prog_bar=True)\n",
    "    \n",
    "    def test_step(self, batch, batch_idx):\n",
    "        _, labels, preds = self._shared_step(batch)\n",
    "\n",
    "        \n",
    "        self.test_acc(preds, labels)\n",
    "        self.log('test_acc', self.test_acc)\n",
    "    \n",
    "    def configure_optimizers(self):\n",
    "        optimizer = torch.optim.SGD(self.parameters(), lr=self.learning_rate)\n",
    "        sch = torch.optim.lr_scheduler.StepLR(optimizer, step_size=7, gamma=0.5)\n",
    "        return [optimizer], [sch]\n",
    "        # return optimizer"
   ]
  },
  {
   "attachments": {},
   "cell_type": "markdown",
   "id": "93010d71",
   "metadata": {},
   "source": [
    "# Data Module"
   ]
  },
  {
   "cell_type": "code",
   "execution_count": 180,
   "id": "f4dc4cea",
   "metadata": {},
   "outputs": [],
   "source": [
    "class MyDataset(Dataset):\n",
    "    def __init__(self, path, kind, transform=None):\n",
    "        self.transform = transform\n",
    "        \n",
    "        self.images, self.labels = load_mnist(path, kind)\n",
    "        \n",
    "        self.images = torch.tensor(self.images, dtype=torch.float32)\n",
    "        self.labels = torch.tensor(self.labels, dtype=torch.int64)\n",
    "\n",
    "        # normalize\n",
    "        self.images = (self.images - self.images.mean()) / self.images.std()\n",
    "        \n",
    "    def __getitem__(self, index):\n",
    "        img = self.images[index].reshape(1, 784)\n",
    "        label = self.labels[index]\n",
    "        \n",
    "        if self.transform is not None:\n",
    "            img = self.transform(img)\n",
    "    \n",
    "        return img, label\n",
    "\n",
    "    def __len__(self):\n",
    "        return self.labels.shape[0]\n",
    "\n",
    "class FashionMNISTDataModule(L.LightningDataModule):\n",
    "    def __init__(self, path, batch_size):\n",
    "        super().__init__()\n",
    "        self.path = path\n",
    "        self.batch_size = batch_size\n",
    "\n",
    "    def prepare_data(self):\n",
    "        # Download data\n",
    "        pass\n",
    "\n",
    "    def setup(self, stage):\n",
    "        self.train_dataset = MyDataset(self.path, kind = 'train')\n",
    "        self.test_dataset = MyDataset(self.path, kind = 't10k')\n",
    "\n",
    "        # split train into train and val\n",
    "        self.train_dataset, self.val_dataset = random_split(self.train_dataset, [50000, 10000])\n",
    "\n",
    "    def train_dataloader(self):\n",
    "        return DataLoader(self.train_dataset, batch_size=self.batch_size, shuffle=True)\n",
    "    \n",
    "    def val_dataloader(self):\n",
    "        return DataLoader(self.val_dataset, batch_size=self.batch_size, shuffle=False)\n",
    "    \n",
    "    def test_dataloader(self):\n",
    "        return DataLoader(self.test_dataset, batch_size=self.batch_size, shuffle=False)    "
   ]
  },
  {
   "cell_type": "code",
   "execution_count": 181,
   "id": "03228fd8",
   "metadata": {},
   "outputs": [
    {
     "name": "stderr",
     "output_type": "stream",
     "text": [
      "Global seed set to 1\n"
     ]
    },
    {
     "data": {
      "text/plain": [
       "<torch._C.Generator at 0x1179977d0>"
      ]
     },
     "execution_count": 181,
     "metadata": {},
     "output_type": "execute_result"
    }
   ],
   "source": [
    "L.seed_everything(1)\n",
    "torch.manual_seed(1)"
   ]
  },
  {
   "attachments": {},
   "cell_type": "markdown",
   "id": "bc0cd68e",
   "metadata": {},
   "source": [
    "# Find Learning Rate"
   ]
  },
  {
   "cell_type": "code",
   "execution_count": 182,
   "id": "7472ebd7",
   "metadata": {},
   "outputs": [],
   "source": [
    "pytorch_model = PyTorchMLP(num_features=784, num_classes=10)\n",
    "lightning_model = LightningModel(pytorch_model, learning_rate=0.01)\n",
    "dm = FashionMNISTDataModule(path='data/fashion', batch_size=64)"
   ]
  },
  {
   "cell_type": "code",
   "execution_count": 183,
   "id": "0641bdb9",
   "metadata": {},
   "outputs": [
    {
     "name": "stderr",
     "output_type": "stream",
     "text": [
      "GPU available: False, used: False\n",
      "TPU available: False, using: 0 TPU cores\n",
      "IPU available: False, using: 0 IPUs\n",
      "HPU available: False, using: 0 HPUs\n"
     ]
    }
   ],
   "source": [
    "from lightning.pytorch.tuner import Tuner\n",
    "\n",
    "trainer = L.Trainer(\n",
    "    max_epochs=40,\n",
    "    accelerator='cpu',\n",
    "    devices='auto',\n",
    "    logger=CSVLogger('logs', name='my-model'),\n",
    "    deterministic=True,\n",
    ")"
   ]
  },
  {
   "cell_type": "code",
   "execution_count": 184,
   "id": "f7de4cce",
   "metadata": {},
   "outputs": [
    {
     "data": {
      "text/plain": [
       "0.01"
      ]
     },
     "execution_count": 184,
     "metadata": {},
     "output_type": "execute_result"
    }
   ],
   "source": [
    "lightning_model.learning_rate"
   ]
  },
  {
   "cell_type": "code",
   "execution_count": 185,
   "id": "161ae256",
   "metadata": {},
   "outputs": [],
   "source": [
    "# tuner = Tuner(trainer)\n",
    "# lr_finder = tuner.lr_find(lightning_model, dm)\n",
    "# fig = lr_finder.plot(suggest=True)\n",
    "# new_lr = lr_finder.suggestion()\n",
    "# lightning_model.learning_rate = new_lr"
   ]
  },
  {
   "cell_type": "code",
   "execution_count": 186,
   "id": "f0f0386d",
   "metadata": {},
   "outputs": [
    {
     "name": "stderr",
     "output_type": "stream",
     "text": [
      "\n",
      "  | Name      | Type               | Params\n",
      "-------------------------------------------------\n",
      "0 | model     | PyTorchMLP         | 111 K \n",
      "1 | train_acc | MulticlassAccuracy | 0     \n",
      "2 | val_acc   | MulticlassAccuracy | 0     \n",
      "3 | test_acc  | MulticlassAccuracy | 0     \n",
      "-------------------------------------------------\n",
      "111 K     Trainable params\n",
      "0         Non-trainable params\n",
      "111 K     Total params\n",
      "0.445     Total estimated model params size (MB)\n"
     ]
    },
    {
     "name": "stdout",
     "output_type": "stream",
     "text": [
      "Epoch 27: 100%|██████████| 782/782 [00:04<00:00, 168.28it/s, v_num=0, val_loss=0.334, val_acc=0.883, train_acc=0.893]"
     ]
    }
   ],
   "source": [
    "trainer.fit(lightning_model, dm)"
   ]
  },
  {
   "cell_type": "code",
   "execution_count": null,
   "id": "6161c18c",
   "metadata": {},
   "outputs": [],
   "source": [
    "import matplotlib.pyplot as plt\n",
    "import pandas as pd\n",
    "import os\n",
    "\n",
    "metrics = pd.read_csv(f\"{trainer.logger.log_dir}/metrics.csv\")\n",
    "\n",
    "aggreg_metrics = []\n",
    "agg_col = \"epoch\"\n",
    "for i, dfg in metrics.groupby(agg_col):\n",
    "    agg = dict(dfg.mean())\n",
    "    agg[agg_col] = i\n",
    "    aggreg_metrics.append(agg)\n",
    "\n",
    "df_metrics = pd.DataFrame(aggreg_metrics)\n",
    "df_metrics[[\"train_loss\", \"val_loss\"]].plot(\n",
    "    grid=True, legend=True, xlabel=\"Epoch\", ylabel=\"Loss\"\n",
    ")\n",
    "\n",
    "\n",
    "plt.savefig(f\"loss.png\")\n",
    "\n",
    "df_metrics[[\"train_acc\", \"val_acc\"]].plot(\n",
    "    grid=True, legend=True, xlabel=\"Epoch\", ylabel=\"ACC\"\n",
    ")\n",
    "\n",
    "plt.savefig(f\"acc.png\")\n",
    "\n",
    "plt.show()"
   ]
  },
  {
   "cell_type": "code",
   "execution_count": 137,
   "id": "ec7e5ffc",
   "metadata": {},
   "outputs": [
    {
     "name": "stderr",
     "output_type": "stream",
     "text": [
      "/Users/alimtleuliyev/anaconda3/lib/python3.10/site-packages/lightning/pytorch/trainer/connectors/data_connector.py:430: PossibleUserWarning: The dataloader, test_dataloader, does not have many workers which may be a bottleneck. Consider increasing the value of the `num_workers` argument` (try 8 which is the number of cpus on this machine) in the `DataLoader` init to improve performance.\n",
      "  rank_zero_warn(\n"
     ]
    },
    {
     "name": "stdout",
     "output_type": "stream",
     "text": [
      "Testing DataLoader 0: 100%|██████████| 157/157 [00:00<00:00, 292.51it/s]\n"
     ]
    },
    {
     "data": {
      "text/html": [
       "<pre style=\"white-space:pre;overflow-x:auto;line-height:normal;font-family:Menlo,'DejaVu Sans Mono',consolas,'Courier New',monospace\">┏━━━━━━━━━━━━━━━━━━━━━━━━━━━┳━━━━━━━━━━━━━━━━━━━━━━━━━━━┓\n",
       "┃<span style=\"font-weight: bold\">        Test metric        </span>┃<span style=\"font-weight: bold\">       DataLoader 0        </span>┃\n",
       "┡━━━━━━━━━━━━━━━━━━━━━━━━━━━╇━━━━━━━━━━━━━━━━━━━━━━━━━━━┩\n",
       "│<span style=\"color: #008080; text-decoration-color: #008080\">         test_acc          </span>│<span style=\"color: #800080; text-decoration-color: #800080\">    0.8774999976158142     </span>│\n",
       "└───────────────────────────┴───────────────────────────┘\n",
       "</pre>\n"
      ],
      "text/plain": [
       "┏━━━━━━━━━━━━━━━━━━━━━━━━━━━┳━━━━━━━━━━━━━━━━━━━━━━━━━━━┓\n",
       "┃\u001b[1m \u001b[0m\u001b[1m       Test metric       \u001b[0m\u001b[1m \u001b[0m┃\u001b[1m \u001b[0m\u001b[1m      DataLoader 0       \u001b[0m\u001b[1m \u001b[0m┃\n",
       "┡━━━━━━━━━━━━━━━━━━━━━━━━━━━╇━━━━━━━━━━━━━━━━━━━━━━━━━━━┩\n",
       "│\u001b[36m \u001b[0m\u001b[36m        test_acc         \u001b[0m\u001b[36m \u001b[0m│\u001b[35m \u001b[0m\u001b[35m   0.8774999976158142    \u001b[0m\u001b[35m \u001b[0m│\n",
       "└───────────────────────────┴───────────────────────────┘\n"
      ]
     },
     "metadata": {},
     "output_type": "display_data"
    },
    {
     "data": {
      "text/plain": [
       "[{'test_acc': 0.8774999976158142}]"
      ]
     },
     "execution_count": 137,
     "metadata": {},
     "output_type": "execute_result"
    }
   ],
   "source": [
    "trainer.test(model=lightning_model, dataloaders=dm)"
   ]
  },
  {
   "cell_type": "code",
   "execution_count": 140,
   "id": "dfd85827",
   "metadata": {},
   "outputs": [
    {
     "data": {
      "image/png": "[encoded data removed]",
      "text/plain": [
       "<Figure size 640x480 with 1 Axes>"
      ]
     },
     "metadata": {},
     "output_type": "display_data"
    }
   ],
   "source": [
    "import matplotlib.pyplot as plt\n",
    "opt = torch.optim.SGD(pytorch_model.parameters(), lr=0.01)\n",
    "sch = torch.optim.lr_scheduler.StepLR(opt, step_size=10, gamma=0.5)\n",
    "\n",
    "\n",
    "lrs = []\n",
    "max_epochs = 30\n",
    "\n",
    "for epoch in range(max_epochs):\n",
    "    opt.step()\n",
    "    lrs.append(opt.param_groups[0][\"lr\"])\n",
    "    sch.step()\n",
    "\n",
    "plt.plot(range(max_epochs), lrs)\n",
    "plt.xlabel('Epoch')\n",
    "plt.ylabel('Learning rate')\n",
    "\n",
    "#plt.savefig('steps.pdf')\n",
    "plt.show()"
   ]
  },
  {
   "cell_type": "code",
   "execution_count": null,
   "id": "7b78f3f9",
   "metadata": {},
   "outputs": [],
   "source": []
  }
 ],
 "metadata": {
  "kernelspec": {
   "display_name": "Python 3 (ipykernel)",
   "language": "python",
   "name": "python3"
  },
  "language_info": {
   "codemirror_mode": {
    "name": "ipython",
    "version": 3
   },
   "file_extension": ".py",
   "mimetype": "text/x-python",
   "name": "python",
   "nbconvert_exporter": "python",
   "pygments_lexer": "ipython3",
   "version": "3.10.11"
  }
 },
 "nbformat": 4,
 "nbformat_minor": 5
}
