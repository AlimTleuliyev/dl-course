{
 "cells": [
  {
   "cell_type": "code",
   "execution_count": 1,
   "metadata": {},
   "outputs": [],
   "source": [
    "import torch\n",
    "import torch.nn as nn\n",
    "import pandas as pd\n",
    "import numpy as np\n",
    "import matplotlib.pyplot as plt"
   ]
  },
  {
   "attachments": {},
   "cell_type": "markdown",
   "metadata": {},
   "source": [
    "# In this notebook, we will implement a logistic regression model and train it using PyTorch."
   ]
  },
  {
   "attachments": {},
   "cell_type": "markdown",
   "metadata": {},
   "source": [
    "### First let's do some prereqs"
   ]
  },
  {
   "cell_type": "code",
   "execution_count": 2,
   "metadata": {},
   "outputs": [],
   "source": [
    "# This is how we create models using PyTorch\n",
    "class model_net(nn.Module):\n",
    "    def __init__(self):\n",
    "        super().__init__()\n",
    "        self.linear = nn.Linear(2, 1)\n",
    "    \n",
    "    def forward(self, x):\n",
    "        pred = torch.sigmoid(self.linear(x))\n",
    "        return pred"
   ]
  },
  {
   "cell_type": "code",
   "execution_count": 3,
   "metadata": {},
   "outputs": [],
   "source": [
    "# model isntance\n",
    "model = model_net()\n",
    "\n",
    "# optimizer\n",
    "optimizer = torch.optim.SGD(model.parameters(), lr=0.01)"
   ]
  },
  {
   "cell_type": "code",
   "execution_count": 4,
   "metadata": {},
   "outputs": [],
   "source": [
    "# training:\n",
    "# for epoch in range(num_of_epochs):\n",
    "#   for x, y in train_loader:\n",
    "#       output = model(x)\n",
    "#       loss = criterion(output, y)\n",
    "#       optomizer.zero_grad()\n",
    "#       loss.backward()\n",
    "#       optimizer.step()"
   ]
  },
  {
   "attachments": {},
   "cell_type": "markdown",
   "metadata": {},
   "source": [
    "This is ready linear functions in PyTorch. We will use it to build a logistic regression model."
   ]
  },
  {
   "cell_type": "code",
   "execution_count": 5,
   "metadata": {},
   "outputs": [],
   "source": [
    "linear = nn.Linear(2, 1, bias=True)"
   ]
  },
  {
   "cell_type": "code",
   "execution_count": 6,
   "metadata": {},
   "outputs": [
    {
     "name": "stdout",
     "output_type": "stream",
     "text": [
      "Weights: Parameter containing:\n",
      "tensor([[-0.3147,  0.6301]], requires_grad=True)\n",
      "Bias: Parameter containing:\n",
      "tensor([-0.0805], requires_grad=True)\n"
     ]
    }
   ],
   "source": [
    "print('Weights:', linear.weight)\n",
    "print('Bias:', linear.bias)"
   ]
  },
  {
   "cell_type": "code",
   "execution_count": 7,
   "metadata": {},
   "outputs": [
    {
     "data": {
      "text/plain": [
       "tensor([[ 1., -1.]])"
      ]
     },
     "execution_count": 7,
     "metadata": {},
     "output_type": "execute_result"
    }
   ],
   "source": [
    "# single training example\n",
    "x = torch.tensor([[1.0, -1.0]])\n",
    "x"
   ]
  },
  {
   "cell_type": "code",
   "execution_count": 8,
   "metadata": {},
   "outputs": [
    {
     "data": {
      "text/plain": [
       "tensor([[-1.0253]])"
      ]
     },
     "execution_count": 8,
     "metadata": {},
     "output_type": "execute_result"
    }
   ],
   "source": [
    "w = linear.weight.detach()\n",
    "b = linear.bias.detach()\n",
    "z = torch.matmul(x, w.T) + b\n",
    "z"
   ]
  },
  {
   "cell_type": "code",
   "execution_count": 9,
   "metadata": {},
   "outputs": [
    {
     "data": {
      "text/plain": [
       "tensor([[-1.0253]], grad_fn=<AddmmBackward0>)"
      ]
     },
     "execution_count": 9,
     "metadata": {},
     "output_type": "execute_result"
    }
   ],
   "source": [
    "# Also we could have don just done:\n",
    "z = linear(x)\n",
    "z"
   ]
  },
  {
   "cell_type": "code",
   "execution_count": 10,
   "metadata": {},
   "outputs": [
    {
     "data": {
      "text/plain": [
       "tensor([[0.8962, 0.1000],\n",
       "        [0.0439, 0.1715],\n",
       "        [0.9307, 0.9377],\n",
       "        [0.7315, 0.9405],\n",
       "        [0.2030, 0.2655],\n",
       "        [0.1261, 0.8811],\n",
       "        [0.1910, 0.5646],\n",
       "        [0.0159, 0.5677],\n",
       "        [0.2066, 0.2643],\n",
       "        [0.8965, 0.6934]])"
      ]
     },
     "execution_count": 10,
     "metadata": {},
     "output_type": "execute_result"
    }
   ],
   "source": [
    "# What about mini batches?\n",
    "x = torch.rand(10, 2)\n",
    "x"
   ]
  },
  {
   "cell_type": "code",
   "execution_count": 11,
   "metadata": {},
   "outputs": [
    {
     "data": {
      "text/plain": [
       "tensor([[-0.2996],\n",
       "        [ 0.0137],\n",
       "        [ 0.2174],\n",
       "        [ 0.2818],\n",
       "        [ 0.0229],\n",
       "        [ 0.4349],\n",
       "        [ 0.2151],\n",
       "        [ 0.2721],\n",
       "        [ 0.0209],\n",
       "        [ 0.0742]])"
      ]
     },
     "execution_count": 11,
     "metadata": {},
     "output_type": "execute_result"
    }
   ],
   "source": [
    "y_preds = torch.matmul(x, w.T) + b\n",
    "y_preds"
   ]
  },
  {
   "cell_type": "code",
   "execution_count": 12,
   "metadata": {},
   "outputs": [
    {
     "data": {
      "text/plain": [
       "tensor([[-0.2996],\n",
       "        [ 0.0137],\n",
       "        [ 0.2174],\n",
       "        [ 0.2818],\n",
       "        [ 0.0229],\n",
       "        [ 0.4349],\n",
       "        [ 0.2151],\n",
       "        [ 0.2721],\n",
       "        [ 0.0209],\n",
       "        [ 0.0742]], grad_fn=<AddmmBackward0>)"
      ]
     },
     "execution_count": 12,
     "metadata": {},
     "output_type": "execute_result"
    }
   ],
   "source": [
    "y_preds = linear(x)\n",
    "y_preds"
   ]
  },
  {
   "attachments": {},
   "cell_type": "markdown",
   "metadata": {},
   "source": [
    "# Now we are ready to build our model and train it"
   ]
  },
  {
   "attachments": {},
   "cell_type": "markdown",
   "metadata": {},
   "source": [
    "# Dataset"
   ]
  },
  {
   "cell_type": "code",
   "execution_count": 13,
   "metadata": {},
   "outputs": [],
   "source": [
    "df = pd.read_csv(\"perceptron_toydata-truncated.txt\", sep=\"\\t\")\n",
    "X_train = df[[\"x1\", \"x2\"]].values\n",
    "y_train = df[\"label\"].values"
   ]
  },
  {
   "cell_type": "code",
   "execution_count": 14,
   "metadata": {},
   "outputs": [
    {
     "data": {
      "image/png": "[encoded data removed]",
      "text/plain": [
       "<Figure size 400x400 with 1 Axes>"
      ]
     },
     "metadata": {},
     "output_type": "display_data"
    }
   ],
   "source": [
    "plt.figure(figsize=(4, 4))\n",
    "plt.plot(\n",
    "    X_train[y_train == 0, 0],\n",
    "    X_train[y_train == 0, 1],\n",
    "    marker=\"D\",\n",
    "    markersize=10,\n",
    "    linestyle=\"\",\n",
    "    label=\"Class 0\",\n",
    ")\n",
    "\n",
    "plt.plot(\n",
    "    X_train[y_train == 1, 0],\n",
    "    X_train[y_train == 1, 1],\n",
    "    marker=\"^\",\n",
    "    markersize=13,\n",
    "    linestyle=\"\",\n",
    "    label=\"Class 1\",\n",
    ")\n",
    "\n",
    "plt.legend(loc=2)\n",
    "\n",
    "plt.xlim([-5, 5])\n",
    "plt.ylim([-5, 5])\n",
    "\n",
    "plt.xlabel(\"Feature $x_1$\", fontsize=12)\n",
    "plt.ylabel(\"Feature $x_2$\", fontsize=12)\n",
    "\n",
    "plt.grid()\n",
    "plt.show()"
   ]
  },
  {
   "attachments": {},
   "cell_type": "markdown",
   "metadata": {},
   "source": [
    "Standardization"
   ]
  },
  {
   "cell_type": "code",
   "execution_count": 15,
   "metadata": {},
   "outputs": [],
   "source": [
    "X_train = (X_train - X_train.mean(axis=0)) / X_train.std(axis=0)"
   ]
  },
  {
   "cell_type": "code",
   "execution_count": 16,
   "metadata": {},
   "outputs": [
    {
     "data": {
      "image/png": "[encoded data removed]",
      "text/plain": [
       "<Figure size 400x400 with 1 Axes>"
      ]
     },
     "metadata": {},
     "output_type": "display_data"
    }
   ],
   "source": [
    "plt.figure(figsize=(4, 4))\n",
    "plt.plot(\n",
    "    X_train[y_train == 0, 0],\n",
    "    X_train[y_train == 0, 1],\n",
    "    marker=\"D\",\n",
    "    markersize=10,\n",
    "    linestyle=\"\",\n",
    "    label=\"Class 0\",\n",
    ")\n",
    "\n",
    "plt.plot(\n",
    "    X_train[y_train == 1, 0],\n",
    "    X_train[y_train == 1, 1],\n",
    "    marker=\"^\",\n",
    "    markersize=13,\n",
    "    linestyle=\"\",\n",
    "    label=\"Class 1\",\n",
    ")\n",
    "\n",
    "plt.legend(loc=2)\n",
    "\n",
    "plt.xlim([-5, 5])\n",
    "plt.ylim([-5, 5])\n",
    "\n",
    "plt.xlabel(\"Feature $x_1$\", fontsize=12)\n",
    "plt.ylabel(\"Feature $x_2$\", fontsize=12)\n",
    "\n",
    "plt.grid()\n",
    "plt.show()"
   ]
  },
  {
   "attachments": {},
   "cell_type": "markdown",
   "metadata": {},
   "source": [
    "### Implementing model"
   ]
  },
  {
   "cell_type": "code",
   "execution_count": 17,
   "metadata": {},
   "outputs": [],
   "source": [
    "class LogisticRegressionTorch(nn.Module):\n",
    "    def __init__(self, num_features):\n",
    "        super().__init__()\n",
    "        self.linear = nn.Linear(num_features, 1)\n",
    "    \n",
    "    def forward(self, x):\n",
    "        # logits = self.linear(x)\n",
    "        pred = torch.sigmoid(self.linear(x))\n",
    "        return pred"
   ]
  },
  {
   "cell_type": "code",
   "execution_count": 18,
   "metadata": {},
   "outputs": [],
   "source": [
    "torch.manual_seed(1)\n",
    "model = LogisticRegressionTorch(num_features = 2)"
   ]
  },
  {
   "cell_type": "code",
   "execution_count": 19,
   "metadata": {},
   "outputs": [
    {
     "name": "stdout",
     "output_type": "stream",
     "text": [
      "tensor([[0.5303]])\n"
     ]
    }
   ],
   "source": [
    "x = torch.rand(1,2)\n",
    "\n",
    "# torch.no_grad() is used to prevent gradient calculation. It doesn't construct the computation graph and therefore\n",
    "# reduces memory usage and speeds up computation.\n",
    "\n",
    "with torch.no_grad():\n",
    "    pred = model(x)\n",
    "\n",
    "print(pred)"
   ]
  },
  {
   "attachments": {},
   "cell_type": "markdown",
   "metadata": {},
   "source": [
    "### Defining a DataLoader"
   ]
  },
  {
   "cell_type": "code",
   "execution_count": 20,
   "metadata": {},
   "outputs": [],
   "source": [
    "from torch.utils.data import Dataset, DataLoader"
   ]
  },
  {
   "cell_type": "code",
   "execution_count": 21,
   "metadata": {},
   "outputs": [],
   "source": [
    "class MyDataset(Dataset):\n",
    "    def __init__(self, X, y):\n",
    "        self.features = torch.tensor(X, dtype=torch.float32)\n",
    "        self.labels = torch.tensor(y, dtype=torch.float32)\n",
    "    \n",
    "    def __getitem__(self, index):\n",
    "        return self.features[index], self.labels[index]\n",
    "    \n",
    "    def __len__(self):\n",
    "        return len(self.features)\n",
    "\n",
    "\n",
    "train_ds = MyDataset(X_train, y_train)\n",
    "\n",
    "train_loader = DataLoader(\n",
    "    train_ds,\n",
    "    batch_size=10,\n",
    "    shuffle=True\n",
    ")"
   ]
  },
  {
   "cell_type": "code",
   "execution_count": 22,
   "metadata": {},
   "outputs": [
    {
     "name": "stdout",
     "output_type": "stream",
     "text": [
      "tensor([[-0.0071,  1.0363],\n",
      "        [ 0.8023,  0.3434],\n",
      "        [-1.1552, -1.2639],\n",
      "        [ 0.9341,  0.9678],\n",
      "        [ 2.9575,  0.1017],\n",
      "        [-1.3340, -0.7724],\n",
      "        [-0.7882, -1.5418],\n",
      "        [ 0.0306, -0.6194],\n",
      "        [ 0.4635,  0.8631],\n",
      "        [ 0.7741,  1.3908]])\n",
      "tensor([1., 1., 0., 1., 1., 0., 0., 0., 1., 1.])\n",
      "tensor([[-0.7411, -0.9457],\n",
      "        [ 0.1623, -1.3968],\n",
      "        [-1.2870, -0.7765],\n",
      "        [-1.0423, -0.9295],\n",
      "        [ 0.0871,  1.4270],\n",
      "        [ 0.5388,  0.5851],\n",
      "        [ 0.5576,  0.6576],\n",
      "        [-1.0046,  0.4200],\n",
      "        [-0.3270, -0.9618],\n",
      "        [ 0.3788,  1.4150]])\n",
      "tensor([0., 0., 0., 0., 1., 1., 1., 0., 0., 1.])\n"
     ]
    }
   ],
   "source": [
    "for x, y in train_loader:\n",
    "    print(x)\n",
    "    print(y)\n",
    "    "
   ]
  },
  {
   "attachments": {},
   "cell_type": "markdown",
   "metadata": {},
   "source": [
    "### Training"
   ]
  },
  {
   "cell_type": "code",
   "execution_count": 23,
   "metadata": {},
   "outputs": [
    {
     "name": "stdout",
     "output_type": "stream",
     "text": [
      "Epoch 1/50:\n",
      "\tBatch 1/2 | Loss: 0.6715\n",
      "\tBatch 2/2 | Loss: 0.7326\n",
      "Epoch 2/50:\n",
      "\tBatch 1/2 | Loss: 0.6721\n",
      "\tBatch 2/2 | Loss: 0.6694\n",
      "Epoch 3/50:\n",
      "\tBatch 1/2 | Loss: 0.5999\n",
      "\tBatch 2/2 | Loss: 0.6830\n",
      "Epoch 4/50:\n",
      "\tBatch 1/2 | Loss: 0.6930\n",
      "\tBatch 2/2 | Loss: 0.5362\n",
      "Epoch 5/50:\n",
      "\tBatch 1/2 | Loss: 0.6091\n",
      "\tBatch 2/2 | Loss: 0.5694\n",
      "Epoch 6/50:\n",
      "\tBatch 1/2 | Loss: 0.5860\n",
      "\tBatch 2/2 | Loss: 0.5447\n",
      "Epoch 7/50:\n",
      "\tBatch 1/2 | Loss: 0.5133\n",
      "\tBatch 2/2 | Loss: 0.5764\n",
      "Epoch 8/50:\n",
      "\tBatch 1/2 | Loss: 0.5115\n",
      "\tBatch 2/2 | Loss: 0.5354\n",
      "Epoch 9/50:\n",
      "\tBatch 1/2 | Loss: 0.5130\n",
      "\tBatch 2/2 | Loss: 0.4932\n",
      "Epoch 10/50:\n",
      "\tBatch 1/2 | Loss: 0.5342\n",
      "\tBatch 2/2 | Loss: 0.4357\n",
      "Epoch 11/50:\n",
      "\tBatch 1/2 | Loss: 0.4152\n",
      "\tBatch 2/2 | Loss: 0.5219\n",
      "Epoch 12/50:\n",
      "\tBatch 1/2 | Loss: 0.4614\n",
      "\tBatch 2/2 | Loss: 0.4426\n",
      "Epoch 13/50:\n",
      "\tBatch 1/2 | Loss: 0.4560\n",
      "\tBatch 2/2 | Loss: 0.4182\n",
      "Epoch 14/50:\n",
      "\tBatch 1/2 | Loss: 0.4115\n",
      "\tBatch 2/2 | Loss: 0.4345\n",
      "Epoch 15/50:\n",
      "\tBatch 1/2 | Loss: 0.4295\n",
      "\tBatch 2/2 | Loss: 0.3900\n",
      "Epoch 16/50:\n",
      "\tBatch 1/2 | Loss: 0.4053\n",
      "\tBatch 2/2 | Loss: 0.3894\n",
      "Epoch 17/50:\n",
      "\tBatch 1/2 | Loss: 0.3777\n",
      "\tBatch 2/2 | Loss: 0.3940\n",
      "Epoch 18/50:\n",
      "\tBatch 1/2 | Loss: 0.4372\n",
      "\tBatch 2/2 | Loss: 0.3122\n",
      "Epoch 19/50:\n",
      "\tBatch 1/2 | Loss: 0.3378\n",
      "\tBatch 2/2 | Loss: 0.3907\n",
      "Epoch 20/50:\n",
      "\tBatch 1/2 | Loss: 0.3279\n",
      "\tBatch 2/2 | Loss: 0.3801\n",
      "Epoch 21/50:\n",
      "\tBatch 1/2 | Loss: 0.3904\n",
      "\tBatch 2/2 | Loss: 0.2990\n",
      "Epoch 22/50:\n",
      "\tBatch 1/2 | Loss: 0.3393\n",
      "\tBatch 2/2 | Loss: 0.3327\n",
      "Epoch 23/50:\n",
      "\tBatch 1/2 | Loss: 0.3670\n",
      "\tBatch 2/2 | Loss: 0.2877\n",
      "Epoch 24/50:\n",
      "\tBatch 1/2 | Loss: 0.3761\n",
      "\tBatch 2/2 | Loss: 0.2622\n",
      "Epoch 25/50:\n",
      "\tBatch 1/2 | Loss: 0.3169\n",
      "\tBatch 2/2 | Loss: 0.3062\n",
      "Epoch 26/50:\n",
      "\tBatch 1/2 | Loss: 0.3186\n",
      "\tBatch 2/2 | Loss: 0.2906\n",
      "Epoch 27/50:\n",
      "\tBatch 1/2 | Loss: 0.3345\n",
      "\tBatch 2/2 | Loss: 0.2605\n",
      "Epoch 28/50:\n",
      "\tBatch 1/2 | Loss: 0.3120\n",
      "\tBatch 2/2 | Loss: 0.2694\n",
      "Epoch 29/50:\n",
      "\tBatch 1/2 | Loss: 0.3316\n",
      "\tBatch 2/2 | Loss: 0.2369\n",
      "Epoch 30/50:\n",
      "\tBatch 1/2 | Loss: 0.3441\n",
      "\tBatch 2/2 | Loss: 0.2123\n",
      "Epoch 31/50:\n",
      "\tBatch 1/2 | Loss: 0.2996\n",
      "\tBatch 2/2 | Loss: 0.2452\n",
      "Epoch 32/50:\n",
      "\tBatch 1/2 | Loss: 0.2906\n",
      "\tBatch 2/2 | Loss: 0.2435\n",
      "Epoch 33/50:\n",
      "\tBatch 1/2 | Loss: 0.2395\n",
      "\tBatch 2/2 | Loss: 0.2838\n",
      "Epoch 34/50:\n",
      "\tBatch 1/2 | Loss: 0.2532\n",
      "\tBatch 2/2 | Loss: 0.2597\n",
      "Epoch 35/50:\n",
      "\tBatch 1/2 | Loss: 0.1901\n",
      "\tBatch 2/2 | Loss: 0.3131\n",
      "Epoch 36/50:\n",
      "\tBatch 1/2 | Loss: 0.2183\n",
      "\tBatch 2/2 | Loss: 0.2755\n",
      "Epoch 37/50:\n",
      "\tBatch 1/2 | Loss: 0.2661\n",
      "\tBatch 2/2 | Loss: 0.2184\n",
      "Epoch 38/50:\n",
      "\tBatch 1/2 | Loss: 0.2496\n",
      "\tBatch 2/2 | Loss: 0.2263\n",
      "Epoch 39/50:\n",
      "\tBatch 1/2 | Loss: 0.2335\n",
      "\tBatch 2/2 | Loss: 0.2344\n",
      "Epoch 40/50:\n",
      "\tBatch 1/2 | Loss: 0.2568\n",
      "\tBatch 2/2 | Loss: 0.2026\n",
      "Epoch 41/50:\n",
      "\tBatch 1/2 | Loss: 0.2512\n",
      "\tBatch 2/2 | Loss: 0.2005\n",
      "Epoch 42/50:\n",
      "\tBatch 1/2 | Loss: 0.2235\n",
      "\tBatch 2/2 | Loss: 0.2208\n",
      "Epoch 43/50:\n",
      "\tBatch 1/2 | Loss: 0.2067\n",
      "\tBatch 2/2 | Loss: 0.2303\n",
      "Epoch 44/50:\n",
      "\tBatch 1/2 | Loss: 0.1679\n",
      "\tBatch 2/2 | Loss: 0.2623\n",
      "Epoch 45/50:\n",
      "\tBatch 1/2 | Loss: 0.2208\n",
      "\tBatch 2/2 | Loss: 0.2028\n",
      "Epoch 46/50:\n",
      "\tBatch 1/2 | Loss: 0.2656\n",
      "\tBatch 2/2 | Loss: 0.1512\n",
      "Epoch 47/50:\n",
      "\tBatch 1/2 | Loss: 0.2160\n",
      "\tBatch 2/2 | Loss: 0.1946\n",
      "Epoch 48/50:\n",
      "\tBatch 1/2 | Loss: 0.2394\n",
      "\tBatch 2/2 | Loss: 0.1651\n",
      "Epoch 49/50:\n",
      "\tBatch 1/2 | Loss: 0.2096\n",
      "\tBatch 2/2 | Loss: 0.1889\n",
      "Epoch 50/50:\n",
      "\tBatch 1/2 | Loss: 0.1914\n",
      "\tBatch 2/2 | Loss: 0.2014\n"
     ]
    }
   ],
   "source": [
    "import torch.nn.functional as F\n",
    "\n",
    "torch.manual_seed(1)\n",
    "model = LogisticRegressionTorch(num_features=2)\n",
    "optimizer = torch.optim.SGD(model.parameters(), lr=0.05)\n",
    "\n",
    "num_epochs = 50\n",
    "\n",
    "for epoch in range(num_epochs):\n",
    "    model.train()\n",
    "    print(f\"Epoch {epoch+1}/{num_epochs}:\")\n",
    "    for batch_idx, (features, labels) in enumerate(train_loader):\n",
    "        outputs = model(features)\n",
    "        loss = F.binary_cross_entropy(outputs, labels.view(-1, 1))\n",
    "\n",
    "        optimizer.zero_grad()\n",
    "        loss.backward()\n",
    "        optimizer.step()\n",
    "        \n",
    "        # print(f'Epoch: {epoch+1:03d}/{num_epochs:03d}'\n",
    "        #        f' | Batch {batch_idx:03d}/{len(train_loader):03d}'\n",
    "        #        f' | Loss: {loss:.2f}')\n",
    "        print(f\"\\tBatch {batch_idx+1}/{len(train_loader)} | Loss: {loss.item():.4f}\")"
   ]
  },
  {
   "cell_type": "code",
   "execution_count": 24,
   "metadata": {},
   "outputs": [
    {
     "data": {
      "text/plain": [
       "tensor([[0.],\n",
       "        [0.],\n",
       "        [0.],\n",
       "        [0.],\n",
       "        [0.],\n",
       "        [0.],\n",
       "        [0.],\n",
       "        [0.],\n",
       "        [0.],\n",
       "        [0.],\n",
       "        [1.],\n",
       "        [1.],\n",
       "        [1.],\n",
       "        [1.],\n",
       "        [1.],\n",
       "        [1.],\n",
       "        [1.],\n",
       "        [1.],\n",
       "        [1.],\n",
       "        [1.]])"
      ]
     },
     "execution_count": 24,
     "metadata": {},
     "output_type": "execute_result"
    }
   ],
   "source": [
    "probas = model(torch.from_numpy(X_train).to(torch.float32))\n",
    "preds = torch.where(probas >= 0.5, 1., 0.)\n",
    "preds"
   ]
  },
  {
   "cell_type": "code",
   "execution_count": 25,
   "metadata": {},
   "outputs": [],
   "source": [
    "def compute_accuracy(model, dataloader):\n",
    "    model.eval()\n",
    "    correct_preds, num_examples = 0, 0\n",
    "\n",
    "    for features, labels in dataloader:\n",
    "        with torch.no_grad():\n",
    "            probas = model(features)\n",
    "        \n",
    "        preds = torch.where(probas >= 0.5, 1., 0.)\n",
    "        true_preds = labels.view(-1, 1).to(torch.float32)\n",
    "\n",
    "        correct_preds += torch.sum(preds == true_preds)\n",
    "        num_examples += len(features)\n",
    "    \n",
    "    return correct_preds / num_examples     \n"
   ]
  },
  {
   "cell_type": "code",
   "execution_count": 26,
   "metadata": {},
   "outputs": [
    {
     "name": "stdout",
     "output_type": "stream",
     "text": [
      "Training accuracy: 100.0%\n"
     ]
    }
   ],
   "source": [
    "train_acc = compute_accuracy(model, train_loader)\n",
    "print('Training accuracy: {}%'.format(train_acc*100))"
   ]
  },
  {
   "attachments": {},
   "cell_type": "markdown",
   "metadata": {},
   "source": [
    "### Plotting the decision boundary"
   ]
  },
  {
   "cell_type": "code",
   "execution_count": 27,
   "metadata": {},
   "outputs": [
    {
     "data": {
      "text/plain": [
       "Parameter containing:\n",
       "tensor([[1.1856, 0.9511]], requires_grad=True)"
      ]
     },
     "execution_count": 27,
     "metadata": {},
     "output_type": "execute_result"
    }
   ],
   "source": [
    "model.linear.weight"
   ]
  },
  {
   "cell_type": "code",
   "execution_count": 28,
   "metadata": {},
   "outputs": [],
   "source": [
    "def plot_boundary(model):\n",
    "    w1 = model.linear.weight[0][0].detach().item()\n",
    "    w2 = model.linear.weight[0][1].detach().item()\n",
    "    b = model.linear.bias.detach().item()\n",
    "\n",
    "    x1_min = -20\n",
    "    x2_min = -(b + w1 * x1_min) / w2\n",
    "\n",
    "    x1_max = 20\n",
    "    x2_max = -(b + w1 * x1_max) / w2\n",
    "\n",
    "    return x1_min, x2_min, x1_max, x2_max"
   ]
  },
  {
   "cell_type": "code",
   "execution_count": 29,
   "metadata": {},
   "outputs": [
    {
     "name": "stdout",
     "output_type": "stream",
     "text": [
      "-20 24.982013233285397 20 -24.881857432190394\n"
     ]
    },
    {
     "data": {
      "image/png": "[encoded data removed]",
      "text/plain": [
       "<Figure size 400x400 with 1 Axes>"
      ]
     },
     "metadata": {},
     "output_type": "display_data"
    }
   ],
   "source": [
    "plt.figure(figsize=(4, 4))\n",
    "\n",
    "x1_min, x2_min, x1_max, x2_max = plot_boundary(model)\n",
    "print(x1_min, x2_min, x1_max, x2_max)\n",
    "\n",
    "plt.plot([x1_min, x1_max], [x2_min, x2_max], \"r--\", linewidth=2, label=\"Boundary\")\n",
    "\n",
    "plt.plot(\n",
    "    X_train[y_train == 0, 0],\n",
    "    X_train[y_train == 0, 1],\n",
    "    marker=\"D\",\n",
    "    markersize=10,\n",
    "    linestyle=\"\",\n",
    "    label=\"Class 0\",\n",
    ")\n",
    "\n",
    "plt.plot(\n",
    "    X_train[y_train == 1, 0],\n",
    "    X_train[y_train == 1, 1],\n",
    "    marker=\"^\",\n",
    "    markersize=13,\n",
    "    linestyle=\"\",\n",
    "    label=\"Class 1\",\n",
    ")\n",
    "\n",
    "plt.legend(loc=2)\n",
    "\n",
    "plt.xlim([-5, 5])\n",
    "plt.ylim([-5, 5])\n",
    "\n",
    "plt.xlabel(\"Feature $x_1$\", fontsize=12)\n",
    "plt.ylabel(\"Feature $x_2$\", fontsize=12)\n",
    "\n",
    "plt.grid()\n",
    "\n",
    "plt.show()"
   ]
  },
  {
   "cell_type": "code",
   "execution_count": null,
   "metadata": {},
   "outputs": [],
   "source": []
  }
 ],
 "metadata": {
  "kernelspec": {
   "display_name": "base",
   "language": "python",
   "name": "python3"
  },
  "language_info": {
   "codemirror_mode": {
    "name": "ipython",
    "version": 3
   },
   "file_extension": ".py",
   "mimetype": "text/x-python",
   "name": "python",
   "nbconvert_exporter": "python",
   "pygments_lexer": "ipython3",
   "version": "3.10.11"
  },
  "orig_nbformat": 4
 },
 "nbformat": 4,
 "nbformat_minor": 2
}
