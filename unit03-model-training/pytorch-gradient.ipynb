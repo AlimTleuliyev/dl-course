{
 "cells": [
  {
   "attachments": {},
   "cell_type": "markdown",
   "metadata": {},
   "source": [
    "# Logistic regression computation graph with PyTorch"
   ]
  },
  {
   "attachments": {},
   "cell_type": "markdown",
   "metadata": {},
   "source": [
    "![alternative text](log-reg-computation-graph.png)"
   ]
  },
  {
   "cell_type": "code",
   "execution_count": 65,
   "metadata": {},
   "outputs": [],
   "source": [
    "import torch"
   ]
  },
  {
   "cell_type": "code",
   "execution_count": 66,
   "metadata": {},
   "outputs": [],
   "source": [
    "# Model params\n",
    "w_1 = torch.rand(1, requires_grad=True)\n",
    "b = torch.rand(1, requires_grad=True)\n",
    "\n",
    "# Model input\n",
    "x = torch.tensor([1.23])\n",
    "\n",
    "# True class\n",
    "y_true = torch.tensor([1.])\n"
   ]
  },
  {
   "cell_type": "code",
   "execution_count": 67,
   "metadata": {},
   "outputs": [
    {
     "name": "stdout",
     "output_type": "stream",
     "text": [
      "u =  tensor(0.0086, grad_fn=<DotBackward0>)\n",
      "z =  tensor([0.5620], grad_fn=<AddBackward0>)\n"
     ]
    }
   ],
   "source": [
    "u = torch.matmul(x, w_1)\n",
    "z = u + b\n",
    "print(\"u = \", u)\n",
    "print(\"z = \", z)"
   ]
  },
  {
   "cell_type": "code",
   "execution_count": 68,
   "metadata": {},
   "outputs": [
    {
     "name": "stdout",
     "output_type": "stream",
     "text": [
      "l =  tensor(0.4511, grad_fn=<BinaryCrossEntropyWithLogitsBackward0>)\n"
     ]
    }
   ],
   "source": [
    "import torch.nn.functional as F\n",
    "\n",
    "l = F.binary_cross_entropy_with_logits(z, y_true)\n",
    "print(\"l = \", l)\n",
    "# What actually happens:\n",
    "# a = torch.sigmoid(z)\n",
    "# l = F.binary_cross_entropy(a, y_true)"
   ]
  },
  {
   "attachments": {},
   "cell_type": "markdown",
   "metadata": {},
   "source": [
    "<font color=\"green\">binary_cross_entropy_with_logits</font> is a PyTorch function that combines sigmoid and binary cross entropy loss. It is numerically stable and can be used to train the model. It is preferaable in efficiency reasons."
   ]
  },
  {
   "cell_type": "code",
   "execution_count": 69,
   "metadata": {},
   "outputs": [
    {
     "name": "stdout",
     "output_type": "stream",
     "text": [
      "grad_l_w_1 =  (tensor([-0.4466]),)\n",
      "grad_l_b =  (tensor([-0.3631]),)\n"
     ]
    }
   ],
   "source": [
    "from torch.autograd import grad\n",
    "# gradient of loss wrt w_1\n",
    "grad_l_w_1 = grad(l, w_1, retain_graph=True)\n",
    "\n",
    "# gradient of loss wrt b\n",
    "grad_l_b = grad(l, b, retain_graph=True)\n",
    "\n",
    "print(\"grad_l_w_1 = \", grad_l_w_1)\n",
    "print(\"grad_l_b = \", grad_l_b)\n",
    "\n"
   ]
  },
  {
   "attachments": {},
   "cell_type": "markdown",
   "metadata": {},
   "source": [
    "We computed the gradients manually. However, it is much easier to use .backward() function to compute the gradients."
   ]
  },
  {
   "cell_type": "code",
   "execution_count": 70,
   "metadata": {},
   "outputs": [
    {
     "name": "stdout",
     "output_type": "stream",
     "text": [
      "w_1.grad =  tensor([-0.4466])\n",
      "b.grad =  tensor([-0.3631])\n"
     ]
    }
   ],
   "source": [
    "l.backward()\n",
    "print(\"w_1.grad = \", w_1.grad)\n",
    "print(\"b.grad = \", b.grad)"
   ]
  },
  {
   "attachments": {},
   "cell_type": "markdown",
   "metadata": {},
   "source": [
    "l.backward() computes the gradients of the loss w.r.t. the parameters (or anything requiring gradients) using backpropagation."
   ]
  }
 ],
 "metadata": {
  "kernelspec": {
   "display_name": "base",
   "language": "python",
   "name": "python3"
  },
  "language_info": {
   "codemirror_mode": {
    "name": "ipython",
    "version": 3
   },
   "file_extension": ".py",
   "mimetype": "text/x-python",
   "name": "python",
   "nbconvert_exporter": "python",
   "pygments_lexer": "ipython3",
   "version": "3.10.11"
  },
  "orig_nbformat": 4
 },
 "nbformat": 4,
 "nbformat_minor": 2
}
