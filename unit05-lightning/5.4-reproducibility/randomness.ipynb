{
 "cells": [
  {
   "cell_type": "code",
   "execution_count": 1,
   "metadata": {},
   "outputs": [],
   "source": [
    "import torch\n",
    "import torch.nn as nn\n",
    "from lightning import LightningModule, Trainer"
   ]
  },
  {
   "cell_type": "code",
   "execution_count": 10,
   "metadata": {},
   "outputs": [
    {
     "name": "stdout",
     "output_type": "stream",
     "text": [
      "Parameter containing:\n",
      "tensor([[ 0.3419,  0.3712, -0.1048,  0.4108, -0.0980],\n",
      "        [ 0.0902, -0.2177,  0.2626,  0.3942, -0.3281],\n",
      "        [ 0.3887,  0.0837,  0.3304,  0.0606,  0.2156],\n",
      "        [-0.0631,  0.3448,  0.0661, -0.2088,  0.1140],\n",
      "        [-0.2060, -0.0524, -0.1816,  0.2967, -0.3530],\n",
      "        [-0.2062, -0.1263, -0.2689,  0.0422, -0.4417],\n",
      "        [ 0.4039, -0.3799,  0.3453,  0.0744, -0.1452],\n",
      "        [ 0.2764,  0.0697,  0.3613,  0.0489, -0.1410],\n",
      "        [ 0.1202, -0.1213,  0.1882,  0.3993,  0.2585],\n",
      "        [-0.1955,  0.2582,  0.0800,  0.2271, -0.2726]], requires_grad=True)\n"
     ]
    }
   ],
   "source": [
    "torch.manual_seed(42)\n",
    "layer = nn.Linear(5, 10)\n",
    "print(layer.weight)"
   ]
  },
  {
   "cell_type": "code",
   "execution_count": 11,
   "metadata": {},
   "outputs": [],
   "source": [
    "# To make Training reproducible, we need to set deterministic=True in the Trainer\n",
    "# and set the seed for the random number generators used by PyTorch and its\n",
    "# libraries (e.g., cuDNN, cuBLAS, etc.)\n",
    "# Example 1: reproducibility with a single GPU\n",
    "# Set the seed for generating random numbers\n",
    "torch.manual_seed(42)\n",
    "# Set the seed for generating random numbers for CUDA\n",
    "torch.cuda.manual_seed(42)\n",
    "\n",
    "# Trainer(deterministic=True, gpus=1).fit(LightningModule())"
   ]
  },
  {
   "cell_type": "code",
   "execution_count": null,
   "metadata": {},
   "outputs": [],
   "source": []
  }
 ],
 "metadata": {
  "kernelspec": {
   "display_name": "base",
   "language": "python",
   "name": "python3"
  },
  "language_info": {
   "codemirror_mode": {
    "name": "ipython",
    "version": 3
   },
   "file_extension": ".py",
   "mimetype": "text/x-python",
   "name": "python",
   "nbconvert_exporter": "python",
   "pygments_lexer": "ipython3",
   "version": "3.10.11"
  },
  "orig_nbformat": 4
 },
 "nbformat": 4,
 "nbformat_minor": 2
}
