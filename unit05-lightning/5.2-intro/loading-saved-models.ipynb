{
 "cells": [
  {
   "cell_type": "code",
   "execution_count": 2,
   "metadata": {},
   "outputs": [],
   "source": [
    "import torch\n",
    "from shared_utilities import PyTorchMLP, compute_accuracy, get_dataset_loaders"
   ]
  },
  {
   "cell_type": "code",
   "execution_count": 3,
   "metadata": {},
   "outputs": [
    {
     "data": {
      "text/plain": [
       "PyTorchMLP(\n",
       "  (all_layers): Sequential(\n",
       "    (0): Linear(in_features=784, out_features=50, bias=True)\n",
       "    (1): ReLU()\n",
       "    (2): Linear(in_features=50, out_features=25, bias=True)\n",
       "    (3): ReLU()\n",
       "    (4): Linear(in_features=25, out_features=10, bias=True)\n",
       "  )\n",
       ")"
      ]
     },
     "execution_count": 3,
     "metadata": {},
     "output_type": "execute_result"
    }
   ],
   "source": [
    "train_loader, val_loader, test_loader = get_dataset_loaders()\n",
    "\n",
    "lightning_model = PyTorchMLP(num_features=784, num_classes=10)\n",
    "lightning_model.load_state_dict(torch.load('plain-pytorch.pt'))\n",
    "lightning_model.eval()"
   ]
  },
  {
   "cell_type": "code",
   "execution_count": 4,
   "metadata": {},
   "outputs": [
    {
     "name": "stdout",
     "output_type": "stream",
     "text": [
      "Train accuracy: 96.99\n",
      "Validation accuracy: 97.08\n",
      "Test accuracy: 96.13\n"
     ]
    }
   ],
   "source": [
    "train_acc = compute_accuracy(lightning_model, train_loader)\n",
    "val_acc = compute_accuracy(lightning_model, val_loader)\n",
    "test_acc = compute_accuracy(lightning_model, test_loader)\n",
    "\n",
    "print(f\"Train accuracy: {train_acc*100:.2f}\")\n",
    "print(f\"Validation accuracy: {val_acc*100:.2f}\")\n",
    "print(f\"Test accuracy: {test_acc*100:.2f}\")\n"
   ]
  },
  {
   "cell_type": "code",
   "execution_count": 6,
   "metadata": {},
   "outputs": [
    {
     "data": {
      "text/plain": [
       "<All keys matched successfully>"
      ]
     },
     "execution_count": 6,
     "metadata": {},
     "output_type": "execute_result"
    }
   ],
   "source": [
    "lightning_model = PyTorchMLP(num_features=784, num_classes=10)\n",
    "lightning_model.load_state_dict(torch.load('lightning.pt'))"
   ]
  },
  {
   "cell_type": "code",
   "execution_count": 7,
   "metadata": {},
   "outputs": [
    {
     "name": "stdout",
     "output_type": "stream",
     "text": [
      "Train accuracy: 97.64\n",
      "Validation accuracy: 97.88\n",
      "Test accuracy: 96.72\n"
     ]
    }
   ],
   "source": [
    "train_acc = compute_accuracy(lightning_model, train_loader)\n",
    "val_acc = compute_accuracy(lightning_model, val_loader)\n",
    "test_acc = compute_accuracy(lightning_model, test_loader)\n",
    "\n",
    "print(f\"Train accuracy: {train_acc*100:.2f}\")\n",
    "print(f\"Validation accuracy: {val_acc*100:.2f}\")\n",
    "print(f\"Test accuracy: {test_acc*100:.2f}\")\n"
   ]
  }
 ],
 "metadata": {
  "kernelspec": {
   "display_name": "base",
   "language": "python",
   "name": "python3"
  },
  "language_info": {
   "codemirror_mode": {
    "name": "ipython",
    "version": 3
   },
   "file_extension": ".py",
   "mimetype": "text/x-python",
   "name": "python",
   "nbconvert_exporter": "python",
   "pygments_lexer": "ipython3",
   "version": "3.10.11"
  },
  "orig_nbformat": 4
 },
 "nbformat": 4,
 "nbformat_minor": 2
}
