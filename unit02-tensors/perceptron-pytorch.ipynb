{
 "cells": [
  {
   "cell_type": "code",
   "execution_count": 1,
   "metadata": {},
   "outputs": [],
   "source": [
    "import pandas as pd\n",
    "import numpy as np\n",
    "import matplotlib.pyplot as plt\n",
    "import torch"
   ]
  },
  {
   "attachments": {},
   "cell_type": "markdown",
   "metadata": {},
   "source": [
    "### Data"
   ]
  },
  {
   "cell_type": "code",
   "execution_count": 2,
   "metadata": {},
   "outputs": [
    {
     "data": {
      "image/png": "[encoded data removed]",
      "text/plain": [
       "<Figure size 400x400 with 1 Axes>"
      ]
     },
     "metadata": {},
     "output_type": "display_data"
    }
   ],
   "source": [
    "df = pd.read_csv('perceptron_toydata-truncated.txt', sep = '\\t')\n",
    "\n",
    "X_train = df[['x1', 'x2']].values\n",
    "y_train = df['label'].values\n",
    "\n",
    "plt.figure(figsize=(4, 4))\n",
    "\n",
    "plt.plot(\n",
    "    X_train[y_train == 0, 0],\n",
    "    X_train[y_train == 0, 1],\n",
    "    marker = 'D',\n",
    "    markersize = 10,\n",
    "    linestyle = '',\n",
    "    label = 'Class 0'\n",
    ")\n",
    "\n",
    "plt.plot(\n",
    "    X_train[y_train == 1, 0],\n",
    "    X_train[y_train == 1, 1],\n",
    "    marker = '^',\n",
    "    markersize = 13,\n",
    "    linestyle = '',\n",
    "    label = 'Class 1'\n",
    ")\n",
    "\n",
    "plt.legend(loc = 'upper left')\n",
    "\n",
    "plt.xlim([-5,5])\n",
    "plt.ylim([-5,5])\n",
    "\n",
    "plt.xlabel('Feature $x_1$')\n",
    "plt.ylabel('Feature $x_2$')\n",
    "\n",
    "plt.grid()\n",
    "plt.show()"
   ]
  },
  {
   "cell_type": "code",
   "execution_count": 3,
   "metadata": {},
   "outputs": [],
   "source": [
    "class OldPerceptron:\n",
    "    def __init__(self, num_features):\n",
    "        self.num_features = num_features\n",
    "        self.weights = [0.0 for _ in range(num_features)]\n",
    "        self.bias = 0.0\n",
    "\n",
    "    def forward(self, x):\n",
    "        weighted_sum_z = self.bias\n",
    "        for i, _ in enumerate(self.weights):\n",
    "            weighted_sum_z += x[i] * self.weights[i]\n",
    "        \n",
    "        if weighted_sum_z > 0:\n",
    "            return 1\n",
    "        else:\n",
    "            return 0\n",
    "    \n",
    "    def update(self, x, true_y):\n",
    "        prediction = self.forward(x)\n",
    "        error = true_y - prediction\n",
    "\n",
    "        # update\n",
    "        self.bias += error\n",
    "        for i, _ in enumerate(self.weights):\n",
    "            self.weights[i] += error * x[i]\n",
    "        \n",
    "        return error\n",
    "    \n",
    "    def train(self, X, y, epochs):\n",
    "        if X.shape[1] != self.num_features:\n",
    "            raise ValueError('Number of features does not match')\n",
    "        \n",
    "        for epoch in range(epochs):\n",
    "            epoch_error = 0.0\n",
    "\n",
    "            for x, y in zip(X, y):\n",
    "                error = self.update(x, y)\n",
    "                epoch_error += abs(error)\n",
    "            \n",
    "            print(f'Epoch {epoch + 1}: error = {epoch_error}')\n",
    "\n",
    "    def score(self, X, y):\n",
    "        num_correct = 0\n",
    "        for x, y in zip(X, y):\n",
    "            prediction = self.forward(x)\n",
    "            num_correct += int(prediction == y)\n",
    "        \n",
    "        return num_correct / len(X)"
   ]
  },
  {
   "cell_type": "code",
   "execution_count": 4,
   "metadata": {},
   "outputs": [],
   "source": [
    "class TorchPerceptron:\n",
    "    def __init__(self, num_features):\n",
    "        self.num_features = num_features\n",
    "        self.weights = torch.zeros(num_features, dtype = torch.float32)\n",
    "        self.bias = torch.tensor(0.0, dtype = torch.float32)\n",
    "\n",
    "    def forward(self, x):\n",
    "        weighted_sum_z = torch.dot(x, self.weights) + self.bias\n",
    "    \n",
    "        if weighted_sum_z > 0:\n",
    "            return torch.tensor(1)\n",
    "        else:\n",
    "            return torch.tensor(0)\n",
    "    \n",
    "    def update(self, x, true_y):\n",
    "        prediction = self.forward(x)\n",
    "        error = true_y - prediction\n",
    "\n",
    "        # update\n",
    "        self.weights += error * x\n",
    "        self.bias += error\n",
    "        \n",
    "        return error\n",
    "    \n",
    "    def train(self, X_train, y_train, epochs):\n",
    "        if X_train.shape[1] != self.num_features:\n",
    "            raise ValueError('Number of features does not match')\n",
    "        \n",
    "        for epoch in range(epochs):\n",
    "            epoch_error = 0.0\n",
    "\n",
    "            for x, y_true in zip(X_train, y_train):\n",
    "                error = self.update(x, y_true)\n",
    "                epoch_error += abs(error)\n",
    "            \n",
    "            print(f'Epoch {epoch + 1}: error = {epoch_error}')\n",
    "            \n",
    "            if epoch_error == 0:\n",
    "                print('\\tEarly stopping')\n",
    "                break\n",
    "\n",
    "    def score(self, X, y):\n",
    "        num_correct = 0\n",
    "        for x, y in zip(X, y):\n",
    "            prediction = self.forward(x)\n",
    "            num_correct += int(prediction == y)\n",
    "        \n",
    "        return num_correct / len(X)"
   ]
  },
  {
   "cell_type": "code",
   "execution_count": 5,
   "metadata": {},
   "outputs": [],
   "source": [
    "X_train = torch.from_numpy(X_train).to(torch.float32)\n",
    "y_train = torch.from_numpy(y_train).to(torch.float32)"
   ]
  },
  {
   "cell_type": "code",
   "execution_count": 6,
   "metadata": {},
   "outputs": [
    {
     "name": "stdout",
     "output_type": "stream",
     "text": [
      "Epoch 1: error = 1.0\n",
      "Epoch 2: error = 3.0\n",
      "Epoch 3: error = 1.0\n",
      "Epoch 4: error = 0.0\n",
      "\tEarly stopping\n"
     ]
    }
   ],
   "source": [
    "ppn = TorchPerceptron(num_features = 2)\n",
    "ppn.train(X_train, y_train, epochs = 10)"
   ]
  },
  {
   "cell_type": "code",
   "execution_count": 9,
   "metadata": {},
   "outputs": [
    {
     "data": {
      "text/plain": [
       "1.0"
      ]
     },
     "execution_count": 9,
     "metadata": {},
     "output_type": "execute_result"
    }
   ],
   "source": [
    "ppn.score(X_train, y_train)"
   ]
  },
  {
   "cell_type": "code",
   "execution_count": 10,
   "metadata": {},
   "outputs": [],
   "source": [
    "def plot_boundary(model):\n",
    "\n",
    "    w1, w2 = model.weights[0], model.weights[1]\n",
    "    b = model.bias\n",
    "\n",
    "    x1_min = -20\n",
    "    x2_min = (-(w1 * x1_min) - b) / w2\n",
    "\n",
    "    x1_max = 20\n",
    "    x2_max = (-(w1 * x1_max) - b) / w2\n",
    "\n",
    "    return x1_min, x1_max, x2_min, x2_max"
   ]
  },
  {
   "cell_type": "code",
   "execution_count": 11,
   "metadata": {},
   "outputs": [
    {
     "data": {
      "image/png": "[encoded data removed]",
      "text/plain": [
       "<Figure size 400x400 with 1 Axes>"
      ]
     },
     "metadata": {},
     "output_type": "display_data"
    }
   ],
   "source": [
    "x1_min, x1_max, x2_min, x2_max = plot_boundary(ppn)\n",
    "\n",
    "plt.figure(figsize=(4, 4))\n",
    "plt.plot(\n",
    "    X_train[y_train == 0, 0],\n",
    "    X_train[y_train == 0, 1],\n",
    "    marker=\"D\",\n",
    "    markersize=10,\n",
    "    linestyle=\"\",\n",
    "    label=\"Class 0\",\n",
    ")\n",
    "\n",
    "plt.plot(\n",
    "    X_train[y_train == 1, 0],\n",
    "    X_train[y_train == 1, 1],\n",
    "    marker=\"^\",\n",
    "    markersize=13,\n",
    "    linestyle=\"\",\n",
    "    label=\"Class 1\",\n",
    ")\n",
    "plt.plot([x1_min, x1_max], [x2_min, x2_max], color=\"k\")\n",
    "\n",
    "plt.legend(loc=2)\n",
    "\n",
    "plt.xlim([-5, 5])\n",
    "plt.ylim([-5, 5])\n",
    "\n",
    "plt.xlabel(\"Feature $x_1$\", fontsize=12)\n",
    "plt.ylabel(\"Feature $x_2$\", fontsize=12)\n",
    "\n",
    "plt.grid()\n",
    "plt.show()"
   ]
  },
  {
   "cell_type": "code",
   "execution_count": null,
   "metadata": {},
   "outputs": [],
   "source": []
  }
 ],
 "metadata": {
  "kernelspec": {
   "display_name": "base",
   "language": "python",
   "name": "python3"
  },
  "language_info": {
   "codemirror_mode": {
    "name": "ipython",
    "version": 3
   },
   "file_extension": ".py",
   "mimetype": "text/x-python",
   "name": "python",
   "nbconvert_exporter": "python",
   "pygments_lexer": "ipython3",
   "version": "3.10.11"
  },
  "orig_nbformat": 4
 },
 "nbformat": 4,
 "nbformat_minor": 2
}
