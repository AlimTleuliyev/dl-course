{
  "nbformat": 4,
  "nbformat_minor": 0,
  "metadata": {
    "colab": {
      "provenance": [],
      "gpuType": "T4"
    },
    "kernelspec": {
      "name": "python3",
      "display_name": "Python 3"
    },
    "language_info": {
      "name": "python"
    },
    "gpuClass": "standard"
  },
  "cells": [
    {
      "cell_type": "code",
      "execution_count": 16,
      "metadata": {
        "id": "36kCLtciOJJJ"
      },
      "outputs": [],
      "source": [
        "import torch"
      ]
    },
    {
      "cell_type": "code",
      "source": [
        "def python_vanila(X, W, b):\n",
        "  output = b\n",
        "  for x, w in zip(X, W):\n",
        "    output += x * w\n",
        "    \n",
        "  \n",
        "  return output"
      ],
      "metadata": {
        "id": "GgBZmMwcOLyt"
      },
      "execution_count": 17,
      "outputs": []
    },
    {
      "cell_type": "code",
      "source": [
        "import random\n",
        "X = [random.random() for _ in range(100000)]\n",
        "W = [random.random() for _ in range(100000)]\n",
        "b = random.random()"
      ],
      "metadata": {
        "id": "H4SxR7mYOWHG"
      },
      "execution_count": 18,
      "outputs": []
    },
    {
      "cell_type": "code",
      "source": [
        "%timeit python_vanila(X, W, b)"
      ],
      "metadata": {
        "colab": {
          "base_uri": "https://localhost:8080/"
        },
        "id": "UxSsOiIROjgs",
        "outputId": "3c2007cd-94a7-4607-b61e-bfeb7ca5e01c"
      },
      "execution_count": 19,
      "outputs": [
        {
          "output_type": "stream",
          "name": "stdout",
          "text": [
            "8.71 ms ± 2.82 ms per loop (mean ± std. dev. of 7 runs, 100 loops each)\n"
          ]
        }
      ]
    },
    {
      "cell_type": "code",
      "source": [
        "def pytorch_version(X, W, b):\n",
        "  return X.dot(W) + b"
      ],
      "metadata": {
        "id": "EGD5aGPtSOuQ"
      },
      "execution_count": 20,
      "outputs": []
    },
    {
      "cell_type": "code",
      "source": [
        "t_X = torch.tensor(X)\n",
        "t_W = torch.tensor(W)\n",
        "t_b = torch.tensor(b)"
      ],
      "metadata": {
        "id": "WFrBG_V4TRF2"
      },
      "execution_count": 21,
      "outputs": []
    },
    {
      "cell_type": "code",
      "source": [
        "%timeit pytorch_version(t_X, t_W, t_b)"
      ],
      "metadata": {
        "colab": {
          "base_uri": "https://localhost:8080/"
        },
        "id": "40ZzBoKeS_4l",
        "outputId": "2e74fe8d-16b6-4d5a-b8c2-c1562b8b21fd"
      },
      "execution_count": 22,
      "outputs": [
        {
          "output_type": "stream",
          "name": "stdout",
          "text": [
            "21.2 µs ± 480 ns per loop (mean ± std. dev. of 7 runs, 10000 loops each)\n"
          ]
        }
      ]
    },
    {
      "cell_type": "code",
      "source": [
        "print(python_vanila(X, W, b))\n",
        "print(pytorch_version(t_X, t_W, t_b))\n"
      ],
      "metadata": {
        "colab": {
          "base_uri": "https://localhost:8080/"
        },
        "id": "lzcDaDAgTGXI",
        "outputId": "9c725fb5-2845-4022-8d15-db4c03b5eabb"
      },
      "execution_count": 23,
      "outputs": [
        {
          "output_type": "stream",
          "name": "stdout",
          "text": [
            "24882.618104221558\n",
            "tensor(24882.6133)\n"
          ]
        }
      ]
    },
    {
      "cell_type": "markdown",
      "source": [
        "Result is the same but it is way faster"
      ],
      "metadata": {
        "id": "1_6-9T6mX25s"
      }
    },
    {
      "cell_type": "markdown",
      "source": [
        "### Now let's see a matrix by a vector multiplication"
      ],
      "metadata": {
        "id": "nY29kiBdXvWm"
      }
    },
    {
      "cell_type": "code",
      "source": [
        "def python_matrix(X, w, b):\n",
        "  result = []\n",
        "  for x in X:\n",
        "    output = b\n",
        "    for x_j, w_j in zip(x, w):\n",
        "      output += x_j * w_j\n",
        "      result.append(output)\n",
        "  \n",
        "  return result"
      ],
      "metadata": {
        "id": "SVUu2CfTXqQA"
      },
      "execution_count": 25,
      "outputs": []
    },
    {
      "cell_type": "code",
      "source": [
        "X = [[random.random() for _ in range(1000)] for _ in range(500)]\n",
        "w = [random.random() for _ in range(1000)]\n",
        "b = random.random()"
      ],
      "metadata": {
        "id": "Ab53Ad7hYayK"
      },
      "execution_count": 33,
      "outputs": []
    },
    {
      "cell_type": "code",
      "source": [
        "%timeit python_matrix(X, w, b)"
      ],
      "metadata": {
        "colab": {
          "base_uri": "https://localhost:8080/"
        },
        "id": "945pOhc_YlPc",
        "outputId": "2ba45422-3bfd-4ffd-a79a-8276290c0eb7"
      },
      "execution_count": 34,
      "outputs": [
        {
          "output_type": "stream",
          "name": "stdout",
          "text": [
            "58.8 ms ± 1.34 ms per loop (mean ± std. dev. of 7 runs, 10 loops each)\n"
          ]
        }
      ]
    },
    {
      "cell_type": "code",
      "source": [
        "def pytorch_matrix(X, w, b):\n",
        "  return X.matmul(w) + b"
      ],
      "metadata": {
        "id": "R4jEDdH5YozH"
      },
      "execution_count": 43,
      "outputs": []
    },
    {
      "cell_type": "code",
      "source": [
        "t_X = torch.tensor(X)\n",
        "t_w = torch.tensor(w)\n",
        "t_b = torch.tensor(b)"
      ],
      "metadata": {
        "id": "y63HaT_bZFJu"
      },
      "execution_count": 44,
      "outputs": []
    },
    {
      "cell_type": "code",
      "source": [
        "%timeit pytorch_matrix(t_X, t_w, t_b)"
      ],
      "metadata": {
        "colab": {
          "base_uri": "https://localhost:8080/"
        },
        "id": "Af5C-z-gZMO5",
        "outputId": "445dc442-3f9d-4240-d118-5ee6b3232db3"
      },
      "execution_count": 45,
      "outputs": [
        {
          "output_type": "stream",
          "name": "stdout",
          "text": [
            "74.9 µs ± 10.5 µs per loop (mean ± std. dev. of 7 runs, 10000 loops each)\n"
          ]
        }
      ]
    },
    {
      "cell_type": "markdown",
      "source": [
        "This is crazy how fast is this! bro what the fuck"
      ],
      "metadata": {
        "id": "yqT4B4CoZ2Kh"
      }
    },
    {
      "cell_type": "markdown",
      "source": [
        "# Now let's see matrix by matrix multiplication"
      ],
      "metadata": {
        "id": "C6CiiYendg8h"
      }
    },
    {
      "cell_type": "code",
      "source": [
        "def python_matrix_mul(X, W):\n",
        "  output = [[0]*len(W[0]) for _ in range(len(X))]\n",
        "  for i in range(len(W[0])):\n",
        "    for k in range(len(X)):\n",
        "      res = 0\n",
        "      for j in range(len(W)):\n",
        "        res += X[k][j] * W[j][i]\n",
        "      output[k][i] = res\n",
        "\n",
        "  return output"
      ],
      "metadata": {
        "id": "7HnCGp4tZ5vw"
      },
      "execution_count": 46,
      "outputs": []
    },
    {
      "cell_type": "code",
      "source": [
        "X = [[1,11], [30,4]]\n",
        "W = [[7,2], [-2,4]]\n",
        "python_matrix_mul(X, W)"
      ],
      "metadata": {
        "colab": {
          "base_uri": "https://localhost:8080/"
        },
        "id": "GHWkLhawfbA8",
        "outputId": "04680b38-babb-4282-973c-4ddb934bc078"
      },
      "execution_count": 72,
      "outputs": [
        {
          "output_type": "execute_result",
          "data": {
            "text/plain": [
              "[[-15, 46], [202, 76]]"
            ]
          },
          "metadata": {},
          "execution_count": 72
        }
      ]
    },
    {
      "cell_type": "code",
      "source": [
        "torch.tensor(X).matmul(torch.tensor(W))"
      ],
      "metadata": {
        "colab": {
          "base_uri": "https://localhost:8080/"
        },
        "id": "YfGzvkIAfhU9",
        "outputId": "778923fa-e582-4025-e98d-0585b27a8160"
      },
      "execution_count": 50,
      "outputs": [
        {
          "output_type": "execute_result",
          "data": {
            "text/plain": [
              "tensor([[-15,  46],\n",
              "        [202,  76]])"
            ]
          },
          "metadata": {},
          "execution_count": 50
        }
      ]
    },
    {
      "cell_type": "code",
      "source": [
        "X = [[random.random() for _ in range(100)] for _ in range(100)]\n",
        "W = [[random.random() for _ in range(100)] for _ in range(100)]"
      ],
      "metadata": {
        "id": "Eadj290Zfoc8"
      },
      "execution_count": 75,
      "outputs": []
    },
    {
      "cell_type": "code",
      "source": [
        "%timeit python_matrix_mul(X, W)"
      ],
      "metadata": {
        "colab": {
          "base_uri": "https://localhost:8080/"
        },
        "id": "J-DkHOSsf7C5",
        "outputId": "8e1044ee-13df-4843-ee24-c07e7e64dcca"
      },
      "execution_count": 68,
      "outputs": [
        {
          "output_type": "stream",
          "name": "stdout",
          "text": [
            "1.43 s ± 461 ms per loop (mean ± std. dev. of 7 runs, 1 loop each)\n"
          ]
        }
      ]
    },
    {
      "cell_type": "code",
      "source": [
        "t_X = torch.tensor(X)\n",
        "t_W = torch.tensor(W)"
      ],
      "metadata": {
        "id": "jX6FJbacg_gj"
      },
      "execution_count": 76,
      "outputs": []
    },
    {
      "cell_type": "code",
      "source": [
        "%timeit t_X.matmul(t_W)"
      ],
      "metadata": {
        "colab": {
          "base_uri": "https://localhost:8080/"
        },
        "id": "K0W11pNXhHLZ",
        "outputId": "840c4ca7-287b-42ea-8e63-c7b2686a0579"
      },
      "execution_count": 70,
      "outputs": [
        {
          "output_type": "stream",
          "name": "stdout",
          "text": [
            "397 µs ± 8.69 µs per loop (mean ± std. dev. of 7 runs, 1000 loops each)\n"
          ]
        }
      ]
    },
    {
      "cell_type": "code",
      "source": [
        "res = python_matrix_mul(X,W)\n",
        "print(torch.tensor(res))\n",
        "print(t_X.matmul(t_W))\n",
        "torch.tensor(res) == t_X.matmul(t_W)"
      ],
      "metadata": {
        "colab": {
          "base_uri": "https://localhost:8080/"
        },
        "id": "r5b_IQCYgDMh",
        "outputId": "0d3d6218-27cf-4456-9d4d-12cb1563ce68"
      },
      "execution_count": 79,
      "outputs": [
        {
          "output_type": "stream",
          "name": "stdout",
          "text": [
            "tensor([[26.2344, 26.6297, 25.6764,  ..., 24.0315, 24.5508, 25.8849],\n",
            "        [24.6449, 28.0791, 26.7169,  ..., 24.6699, 26.5424, 26.8078],\n",
            "        [25.4025, 26.7122, 28.2863,  ..., 26.3889, 27.7417, 25.4674],\n",
            "        ...,\n",
            "        [21.6980, 23.7485, 23.6584,  ..., 21.0976, 23.7496, 22.6124],\n",
            "        [20.9818, 21.3759, 23.2836,  ..., 21.4318, 22.8028, 19.7733],\n",
            "        [25.9496, 26.4271, 27.3356,  ..., 23.8985, 26.7330, 25.4176]])\n",
            "tensor([[26.2344, 26.6297, 25.6764,  ..., 24.0315, 24.5508, 25.8849],\n",
            "        [24.6449, 28.0791, 26.7169,  ..., 24.6699, 26.5424, 26.8078],\n",
            "        [25.4025, 26.7122, 28.2863,  ..., 26.3889, 27.7417, 25.4674],\n",
            "        ...,\n",
            "        [21.6980, 23.7485, 23.6584,  ..., 21.0976, 23.7496, 22.6124],\n",
            "        [20.9818, 21.3759, 23.2836,  ..., 21.4318, 22.8028, 19.7733],\n",
            "        [25.9496, 26.4271, 27.3356,  ..., 23.8985, 26.7330, 25.4176]])\n"
          ]
        },
        {
          "output_type": "execute_result",
          "data": {
            "text/plain": [
              "tensor([[False, False, False,  ...,  True, False,  True],\n",
              "        [False,  True, False,  ..., False, False, False],\n",
              "        [ True, False, False,  ..., False, False, False],\n",
              "        ...,\n",
              "        [False,  True,  True,  ..., False, False,  True],\n",
              "        [ True,  True, False,  ..., False, False,  True],\n",
              "        [False,  True, False,  ...,  True,  True, False]])"
            ]
          },
          "metadata": {},
          "execution_count": 79
        }
      ]
    },
    {
      "cell_type": "code",
      "source": [],
      "metadata": {
        "id": "tpgrVofGnFk7"
      },
      "execution_count": null,
      "outputs": []
    }
  ]
}