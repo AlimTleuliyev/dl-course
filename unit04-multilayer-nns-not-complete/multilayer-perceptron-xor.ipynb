{
 "cells": [
  {
   "cell_type": "code",
   "execution_count": 87,
   "metadata": {},
   "outputs": [],
   "source": [
    "import pandas as pd\n",
    "from sklearn.model_selection import train_test_split\n",
    "import numpy as np\n",
    "import matplotlib.pyplot as plt\n",
    "import torch\n",
    "import torch.nn as nn\n",
    "from torch.utils.data import Dataset, DataLoader\n",
    "import torch.nn.functional as F"
   ]
  },
  {
   "attachments": {},
   "cell_type": "markdown",
   "metadata": {},
   "source": [
    "# Loading the Dataset"
   ]
  },
  {
   "cell_type": "code",
   "execution_count": 88,
   "metadata": {},
   "outputs": [
    {
     "data": {
      "text/html": [
       "<div>\n",
       "<style scoped>\n",
       "    .dataframe tbody tr th:only-of-type {\n",
       "        vertical-align: middle;\n",
       "    }\n",
       "\n",
       "    .dataframe tbody tr th {\n",
       "        vertical-align: top;\n",
       "    }\n",
       "\n",
       "    .dataframe thead th {\n",
       "        text-align: right;\n",
       "    }\n",
       "</style>\n",
       "<table border=\"1\" class=\"dataframe\">\n",
       "  <thead>\n",
       "    <tr style=\"text-align: right;\">\n",
       "      <th></th>\n",
       "      <th>x1</th>\n",
       "      <th>x2</th>\n",
       "      <th>class label</th>\n",
       "    </tr>\n",
       "  </thead>\n",
       "  <tbody>\n",
       "    <tr>\n",
       "      <th>0</th>\n",
       "      <td>0.781306</td>\n",
       "      <td>1.062984</td>\n",
       "      <td>0</td>\n",
       "    </tr>\n",
       "    <tr>\n",
       "      <th>1</th>\n",
       "      <td>-1.060524</td>\n",
       "      <td>-1.095550</td>\n",
       "      <td>0</td>\n",
       "    </tr>\n",
       "    <tr>\n",
       "      <th>2</th>\n",
       "      <td>0.632125</td>\n",
       "      <td>0.674028</td>\n",
       "      <td>0</td>\n",
       "    </tr>\n",
       "    <tr>\n",
       "      <th>3</th>\n",
       "      <td>-1.424712</td>\n",
       "      <td>0.535203</td>\n",
       "      <td>1</td>\n",
       "    </tr>\n",
       "    <tr>\n",
       "      <th>4</th>\n",
       "      <td>1.383161</td>\n",
       "      <td>1.368510</td>\n",
       "      <td>0</td>\n",
       "    </tr>\n",
       "    <tr>\n",
       "      <th>...</th>\n",
       "      <td>...</td>\n",
       "      <td>...</td>\n",
       "      <td>...</td>\n",
       "    </tr>\n",
       "    <tr>\n",
       "      <th>745</th>\n",
       "      <td>0.792484</td>\n",
       "      <td>0.839275</td>\n",
       "      <td>0</td>\n",
       "    </tr>\n",
       "    <tr>\n",
       "      <th>746</th>\n",
       "      <td>0.582466</td>\n",
       "      <td>-0.749250</td>\n",
       "      <td>1</td>\n",
       "    </tr>\n",
       "    <tr>\n",
       "      <th>747</th>\n",
       "      <td>-1.593475</td>\n",
       "      <td>0.671721</td>\n",
       "      <td>1</td>\n",
       "    </tr>\n",
       "    <tr>\n",
       "      <th>748</th>\n",
       "      <td>-0.812671</td>\n",
       "      <td>-0.268542</td>\n",
       "      <td>0</td>\n",
       "    </tr>\n",
       "    <tr>\n",
       "      <th>749</th>\n",
       "      <td>-1.286524</td>\n",
       "      <td>0.655459</td>\n",
       "      <td>1</td>\n",
       "    </tr>\n",
       "  </tbody>\n",
       "</table>\n",
       "<p>750 rows × 3 columns</p>\n",
       "</div>"
      ],
      "text/plain": [
       "           x1        x2  class label\n",
       "0    0.781306  1.062984            0\n",
       "1   -1.060524 -1.095550            0\n",
       "2    0.632125  0.674028            0\n",
       "3   -1.424712  0.535203            1\n",
       "4    1.383161  1.368510            0\n",
       "..        ...       ...          ...\n",
       "745  0.792484  0.839275            0\n",
       "746  0.582466 -0.749250            1\n",
       "747 -1.593475  0.671721            1\n",
       "748 -0.812671 -0.268542            0\n",
       "749 -1.286524  0.655459            1\n",
       "\n",
       "[750 rows x 3 columns]"
      ]
     },
     "execution_count": 88,
     "metadata": {},
     "output_type": "execute_result"
    }
   ],
   "source": [
    "df = pd.read_csv('data/xor.csv')\n",
    "df"
   ]
  },
  {
   "cell_type": "code",
   "execution_count": 89,
   "metadata": {},
   "outputs": [],
   "source": [
    "X = df[['x1', 'x2']].values\n",
    "y = df['class label'].values"
   ]
  },
  {
   "cell_type": "code",
   "execution_count": 90,
   "metadata": {},
   "outputs": [],
   "source": [
    "X_train, X_test, y_train, y_test = train_test_split(X, y, test_size = 0.15, random_state = 1, stratify = y)"
   ]
  },
  {
   "cell_type": "code",
   "execution_count": 91,
   "metadata": {},
   "outputs": [],
   "source": [
    "X_train, X_val, y_train, y_val = train_test_split(X_train, y_train, test_size = 0.1, random_state = 1, stratify = y_train)"
   ]
  },
  {
   "cell_type": "code",
   "execution_count": 92,
   "metadata": {},
   "outputs": [
    {
     "name": "stdout",
     "output_type": "stream",
     "text": [
      "X_train.shape = (573, 2)\n",
      "X_val.shape = (64, 2)\n",
      "X_test.shape = (113, 2)\n"
     ]
    }
   ],
   "source": [
    "print('X_train.shape =', X_train.shape)\n",
    "print('X_val.shape =', X_val.shape)\n",
    "print('X_test.shape =', X_test.shape)"
   ]
  },
  {
   "cell_type": "code",
   "execution_count": 93,
   "metadata": {},
   "outputs": [
    {
     "name": "stdout",
     "output_type": "stream",
     "text": [
      "Training labels: [287 286]\n",
      "Validation labels: [32 32]\n",
      "Test labels: [57 56]\n"
     ]
    }
   ],
   "source": [
    "print('Training labels:', np.bincount(y_train))\n",
    "print('Validation labels:', np.bincount(y_val))\n",
    "print('Test labels:', np.bincount(y_test))"
   ]
  },
  {
   "attachments": {},
   "cell_type": "markdown",
   "metadata": {},
   "source": [
    "# Visualize the data"
   ]
  },
  {
   "cell_type": "code",
   "execution_count": 94,
   "metadata": {},
   "outputs": [
    {
     "data": {
      "image/png": "[encoded data removed]",
      "text/plain": [
       "<Figure size 640x480 with 1 Axes>"
      ]
     },
     "metadata": {},
     "output_type": "display_data"
    }
   ],
   "source": [
    "plt.plot(\n",
    "    X_train[y_train == 0, 0], X_train[y_train == 0, 1],\n",
    "    marker = 'D', markersize = 6, label = 'class 0', linestyle = ''\n",
    ")\n",
    "\n",
    "plt.plot(\n",
    "    X_train[y_train == 1, 0], X_train[y_train == 1, 1],\n",
    "    marker = '^', markersize = 6, label = 'class 1', linestyle = ''\n",
    ")\n",
    "plt.xlim([-3, 3])\n",
    "plt.ylim([-3, 3])\n",
    "plt.xlabel('Feature $x_1$')\n",
    "plt.ylabel('Feature $x_2$')\n",
    "plt.legend(loc = 'upper left')\n",
    "plt.show()"
   ]
  },
  {
   "attachments": {},
   "cell_type": "markdown",
   "metadata": {},
   "source": [
    "As we can see to classes are not linearly separable so Logistic Regression will not work here. We need to use a non-linear model."
   ]
  },
  {
   "attachments": {},
   "cell_type": "markdown",
   "metadata": {},
   "source": [
    "# Implementing the model"
   ]
  },
  {
   "cell_type": "code",
   "execution_count": 95,
   "metadata": {},
   "outputs": [],
   "source": [
    "class MultilayerPerceptron(nn.Module):\n",
    "    def __init__(self, num_feautures, num_classes):\n",
    "        super().__init__()\n",
    "        self.all_layers = nn.Sequential(\n",
    "            # 1st hidden layer\n",
    "            nn.Linear(num_feautures, 25),\n",
    "            nn.ReLU(),\n",
    "\n",
    "            # 2nd hidden layer\n",
    "            nn.Linear(25, 15),\n",
    "            nn.ReLU(),\n",
    "\n",
    "            # Output layer\n",
    "            nn.Linear(15, num_classes)\n",
    "        )\n",
    "    \n",
    "    def forward(self, x):\n",
    "        return self.all_layers(x)"
   ]
  },
  {
   "attachments": {},
   "cell_type": "markdown",
   "metadata": {},
   "source": [
    "# Defining the Dataset, DataLoader"
   ]
  },
  {
   "cell_type": "code",
   "execution_count": 96,
   "metadata": {},
   "outputs": [],
   "source": [
    "class MyDataset(Dataset):\n",
    "    def __init__(self, X, y):\n",
    "        self.feautures = torch.tensor(X, dtype = torch.float32)\n",
    "        self.labels = torch.tensor(y, dtype = torch.int64)\n",
    "    \n",
    "    def __getitem__(self, index):\n",
    "        return self.feautures[index], self.labels[index]\n",
    "    \n",
    "    def __len__(self):\n",
    "        return len(self.labels)\n",
    "    \n",
    "train_ds = MyDataset(X_train, y_train)\n",
    "val_ds = MyDataset(X_val, y_val)\n",
    "test_ds = MyDataset(X_test, y_test)\n",
    "\n",
    "train_loader = DataLoader(\n",
    "    train_ds, batch_size = 32, shuffle = True\n",
    ")\n",
    "\n",
    "val_loader = DataLoader(\n",
    "    val_ds, batch_size = 32, shuffle = False\n",
    ")\n",
    "\n",
    "test_loader = DataLoader(\n",
    "    test_ds, batch_size = 32, shuffle = False\n",
    ")"
   ]
  },
  {
   "attachments": {},
   "cell_type": "markdown",
   "metadata": {},
   "source": [
    "# Training loop"
   ]
  },
  {
   "cell_type": "code",
   "execution_count": 97,
   "metadata": {},
   "outputs": [],
   "source": [
    "def compute_accuracy(model, data_loader):\n",
    "    model.eval()\n",
    "\n",
    "    correct_pred, num_examples = 0, 0\n",
    "\n",
    "    for features, labels in data_loader:\n",
    "        with torch.no_grad():\n",
    "            logits = model(features)\n",
    "        \n",
    "        predictions = torch.argmax(logits, dim = 1)\n",
    "        correct_pred += torch.sum(predictions == labels)\n",
    "        num_examples += len(labels)\n",
    "    \n",
    "    return correct_pred / num_examples"
   ]
  },
  {
   "cell_type": "code",
   "execution_count": 98,
   "metadata": {},
   "outputs": [
    {
     "name": "stdout",
     "output_type": "stream",
     "text": [
      "Epoch: 001/010 | Batch 000/018 | Train/Val Loss: 0.68\n",
      "Epoch: 001/010 | Batch 001/018 | Train/Val Loss: 0.69\n",
      "Epoch: 001/010 | Batch 002/018 | Train/Val Loss: 0.68\n",
      "Epoch: 001/010 | Batch 003/018 | Train/Val Loss: 0.67\n",
      "Epoch: 001/010 | Batch 004/018 | Train/Val Loss: 0.69\n",
      "Epoch: 001/010 | Batch 005/018 | Train/Val Loss: 0.68\n",
      "Epoch: 001/010 | Batch 006/018 | Train/Val Loss: 0.66\n",
      "Epoch: 001/010 | Batch 007/018 | Train/Val Loss: 0.68\n",
      "Epoch: 001/010 | Batch 008/018 | Train/Val Loss: 0.67\n",
      "Epoch: 001/010 | Batch 009/018 | Train/Val Loss: 0.68\n",
      "Epoch: 001/010 | Batch 010/018 | Train/Val Loss: 0.66\n",
      "Epoch: 001/010 | Batch 011/018 | Train/Val Loss: 0.65\n",
      "Epoch: 001/010 | Batch 012/018 | Train/Val Loss: 0.67\n",
      "Epoch: 001/010 | Batch 013/018 | Train/Val Loss: 0.67\n",
      "Epoch: 001/010 | Batch 014/018 | Train/Val Loss: 0.65\n",
      "Epoch: 001/010 | Batch 015/018 | Train/Val Loss: 0.67\n",
      "Epoch: 001/010 | Batch 016/018 | Train/Val Loss: 0.67\n",
      "Epoch: 001/010 | Batch 017/018 | Train/Val Loss: 0.65\n",
      "Epoch: 0001/0010 Train Acc: 0.6841 Val Acc: 0.6562\n",
      "Epoch: 002/010 | Batch 000/018 | Train/Val Loss: 0.66\n",
      "Epoch: 002/010 | Batch 001/018 | Train/Val Loss: 0.66\n",
      "Epoch: 002/010 | Batch 002/018 | Train/Val Loss: 0.66\n",
      "Epoch: 002/010 | Batch 003/018 | Train/Val Loss: 0.65\n",
      "Epoch: 002/010 | Batch 004/018 | Train/Val Loss: 0.66\n",
      "Epoch: 002/010 | Batch 005/018 | Train/Val Loss: 0.65\n",
      "Epoch: 002/010 | Batch 006/018 | Train/Val Loss: 0.63\n",
      "Epoch: 002/010 | Batch 007/018 | Train/Val Loss: 0.65\n",
      "Epoch: 002/010 | Batch 008/018 | Train/Val Loss: 0.66\n",
      "Epoch: 002/010 | Batch 009/018 | Train/Val Loss: 0.66\n",
      "Epoch: 002/010 | Batch 010/018 | Train/Val Loss: 0.66\n",
      "Epoch: 002/010 | Batch 011/018 | Train/Val Loss: 0.63\n",
      "Epoch: 002/010 | Batch 012/018 | Train/Val Loss: 0.64\n",
      "Epoch: 002/010 | Batch 013/018 | Train/Val Loss: 0.64\n",
      "Epoch: 002/010 | Batch 014/018 | Train/Val Loss: 0.65\n",
      "Epoch: 002/010 | Batch 015/018 | Train/Val Loss: 0.63\n",
      "Epoch: 002/010 | Batch 016/018 | Train/Val Loss: 0.63\n",
      "Epoch: 002/010 | Batch 017/018 | Train/Val Loss: 0.62\n",
      "Epoch: 0002/0010 Train Acc: 0.8150 Val Acc: 0.7344\n",
      "Epoch: 003/010 | Batch 000/018 | Train/Val Loss: 0.64\n",
      "Epoch: 003/010 | Batch 001/018 | Train/Val Loss: 0.63\n",
      "Epoch: 003/010 | Batch 002/018 | Train/Val Loss: 0.63\n",
      "Epoch: 003/010 | Batch 003/018 | Train/Val Loss: 0.64\n",
      "Epoch: 003/010 | Batch 004/018 | Train/Val Loss: 0.62\n",
      "Epoch: 003/010 | Batch 005/018 | Train/Val Loss: 0.61\n",
      "Epoch: 003/010 | Batch 006/018 | Train/Val Loss: 0.61\n",
      "Epoch: 003/010 | Batch 007/018 | Train/Val Loss: 0.64\n",
      "Epoch: 003/010 | Batch 008/018 | Train/Val Loss: 0.62\n",
      "Epoch: 003/010 | Batch 009/018 | Train/Val Loss: 0.61\n",
      "Epoch: 003/010 | Batch 010/018 | Train/Val Loss: 0.61\n",
      "Epoch: 003/010 | Batch 011/018 | Train/Val Loss: 0.61\n",
      "Epoch: 003/010 | Batch 012/018 | Train/Val Loss: 0.62\n",
      "Epoch: 003/010 | Batch 013/018 | Train/Val Loss: 0.60\n",
      "Epoch: 003/010 | Batch 014/018 | Train/Val Loss: 0.62\n",
      "Epoch: 003/010 | Batch 015/018 | Train/Val Loss: 0.61\n",
      "Epoch: 003/010 | Batch 016/018 | Train/Val Loss: 0.60\n",
      "Epoch: 003/010 | Batch 017/018 | Train/Val Loss: 0.59\n",
      "Epoch: 0003/0010 Train Acc: 0.8988 Val Acc: 0.9062\n",
      "Epoch: 004/010 | Batch 000/018 | Train/Val Loss: 0.59\n",
      "Epoch: 004/010 | Batch 001/018 | Train/Val Loss: 0.59\n",
      "Epoch: 004/010 | Batch 002/018 | Train/Val Loss: 0.58\n",
      "Epoch: 004/010 | Batch 003/018 | Train/Val Loss: 0.59\n",
      "Epoch: 004/010 | Batch 004/018 | Train/Val Loss: 0.59\n",
      "Epoch: 004/010 | Batch 005/018 | Train/Val Loss: 0.57\n",
      "Epoch: 004/010 | Batch 006/018 | Train/Val Loss: 0.55\n",
      "Epoch: 004/010 | Batch 007/018 | Train/Val Loss: 0.60\n",
      "Epoch: 004/010 | Batch 008/018 | Train/Val Loss: 0.59\n",
      "Epoch: 004/010 | Batch 009/018 | Train/Val Loss: 0.57\n",
      "Epoch: 004/010 | Batch 010/018 | Train/Val Loss: 0.57\n",
      "Epoch: 004/010 | Batch 011/018 | Train/Val Loss: 0.56\n",
      "Epoch: 004/010 | Batch 012/018 | Train/Val Loss: 0.58\n",
      "Epoch: 004/010 | Batch 013/018 | Train/Val Loss: 0.58\n",
      "Epoch: 004/010 | Batch 014/018 | Train/Val Loss: 0.56\n",
      "Epoch: 004/010 | Batch 015/018 | Train/Val Loss: 0.57\n",
      "Epoch: 004/010 | Batch 016/018 | Train/Val Loss: 0.54\n",
      "Epoch: 004/010 | Batch 017/018 | Train/Val Loss: 0.57\n",
      "Epoch: 0004/0010 Train Acc: 0.9319 Val Acc: 0.9062\n",
      "Epoch: 005/010 | Batch 000/018 | Train/Val Loss: 0.56\n",
      "Epoch: 005/010 | Batch 001/018 | Train/Val Loss: 0.56\n",
      "Epoch: 005/010 | Batch 002/018 | Train/Val Loss: 0.54\n",
      "Epoch: 005/010 | Batch 003/018 | Train/Val Loss: 0.54\n",
      "Epoch: 005/010 | Batch 004/018 | Train/Val Loss: 0.52\n",
      "Epoch: 005/010 | Batch 005/018 | Train/Val Loss: 0.54\n",
      "Epoch: 005/010 | Batch 006/018 | Train/Val Loss: 0.53\n",
      "Epoch: 005/010 | Batch 007/018 | Train/Val Loss: 0.50\n",
      "Epoch: 005/010 | Batch 008/018 | Train/Val Loss: 0.54\n",
      "Epoch: 005/010 | Batch 009/018 | Train/Val Loss: 0.52\n",
      "Epoch: 005/010 | Batch 010/018 | Train/Val Loss: 0.50\n",
      "Epoch: 005/010 | Batch 011/018 | Train/Val Loss: 0.54\n",
      "Epoch: 005/010 | Batch 012/018 | Train/Val Loss: 0.48\n",
      "Epoch: 005/010 | Batch 013/018 | Train/Val Loss: 0.53\n",
      "Epoch: 005/010 | Batch 014/018 | Train/Val Loss: 0.50\n",
      "Epoch: 005/010 | Batch 015/018 | Train/Val Loss: 0.48\n",
      "Epoch: 005/010 | Batch 016/018 | Train/Val Loss: 0.49\n",
      "Epoch: 005/010 | Batch 017/018 | Train/Val Loss: 0.51\n",
      "Epoch: 0005/0010 Train Acc: 0.9529 Val Acc: 0.9219\n",
      "Epoch: 006/010 | Batch 000/018 | Train/Val Loss: 0.47\n",
      "Epoch: 006/010 | Batch 001/018 | Train/Val Loss: 0.50\n",
      "Epoch: 006/010 | Batch 002/018 | Train/Val Loss: 0.51\n",
      "Epoch: 006/010 | Batch 003/018 | Train/Val Loss: 0.48\n",
      "Epoch: 006/010 | Batch 004/018 | Train/Val Loss: 0.43\n",
      "Epoch: 006/010 | Batch 005/018 | Train/Val Loss: 0.47\n",
      "Epoch: 006/010 | Batch 006/018 | Train/Val Loss: 0.44\n",
      "Epoch: 006/010 | Batch 007/018 | Train/Val Loss: 0.52\n",
      "Epoch: 006/010 | Batch 008/018 | Train/Val Loss: 0.45\n",
      "Epoch: 006/010 | Batch 009/018 | Train/Val Loss: 0.47\n",
      "Epoch: 006/010 | Batch 010/018 | Train/Val Loss: 0.44\n",
      "Epoch: 006/010 | Batch 011/018 | Train/Val Loss: 0.41\n",
      "Epoch: 006/010 | Batch 012/018 | Train/Val Loss: 0.50\n",
      "Epoch: 006/010 | Batch 013/018 | Train/Val Loss: 0.44\n",
      "Epoch: 006/010 | Batch 014/018 | Train/Val Loss: 0.45\n",
      "Epoch: 006/010 | Batch 015/018 | Train/Val Loss: 0.41\n",
      "Epoch: 006/010 | Batch 016/018 | Train/Val Loss: 0.47\n",
      "Epoch: 006/010 | Batch 017/018 | Train/Val Loss: 0.41\n",
      "Epoch: 0006/0010 Train Acc: 0.9476 Val Acc: 0.9219\n",
      "Epoch: 007/010 | Batch 000/018 | Train/Val Loss: 0.43\n",
      "Epoch: 007/010 | Batch 001/018 | Train/Val Loss: 0.42\n",
      "Epoch: 007/010 | Batch 002/018 | Train/Val Loss: 0.42\n",
      "Epoch: 007/010 | Batch 003/018 | Train/Val Loss: 0.41\n",
      "Epoch: 007/010 | Batch 004/018 | Train/Val Loss: 0.38\n",
      "Epoch: 007/010 | Batch 005/018 | Train/Val Loss: 0.41\n",
      "Epoch: 007/010 | Batch 006/018 | Train/Val Loss: 0.38\n",
      "Epoch: 007/010 | Batch 007/018 | Train/Val Loss: 0.41\n",
      "Epoch: 007/010 | Batch 008/018 | Train/Val Loss: 0.42\n",
      "Epoch: 007/010 | Batch 009/018 | Train/Val Loss: 0.39\n",
      "Epoch: 007/010 | Batch 010/018 | Train/Val Loss: 0.39\n",
      "Epoch: 007/010 | Batch 011/018 | Train/Val Loss: 0.38\n",
      "Epoch: 007/010 | Batch 012/018 | Train/Val Loss: 0.35\n",
      "Epoch: 007/010 | Batch 013/018 | Train/Val Loss: 0.37\n",
      "Epoch: 007/010 | Batch 014/018 | Train/Val Loss: 0.36\n",
      "Epoch: 007/010 | Batch 015/018 | Train/Val Loss: 0.38\n",
      "Epoch: 007/010 | Batch 016/018 | Train/Val Loss: 0.38\n",
      "Epoch: 007/010 | Batch 017/018 | Train/Val Loss: 0.40\n",
      "Epoch: 0007/0010 Train Acc: 0.9686 Val Acc: 0.9844\n",
      "Epoch: 008/010 | Batch 000/018 | Train/Val Loss: 0.39\n",
      "Epoch: 008/010 | Batch 001/018 | Train/Val Loss: 0.34\n",
      "Epoch: 008/010 | Batch 002/018 | Train/Val Loss: 0.33\n",
      "Epoch: 008/010 | Batch 003/018 | Train/Val Loss: 0.37\n",
      "Epoch: 008/010 | Batch 004/018 | Train/Val Loss: 0.35\n",
      "Epoch: 008/010 | Batch 005/018 | Train/Val Loss: 0.35\n",
      "Epoch: 008/010 | Batch 006/018 | Train/Val Loss: 0.37\n",
      "Epoch: 008/010 | Batch 007/018 | Train/Val Loss: 0.36\n",
      "Epoch: 008/010 | Batch 008/018 | Train/Val Loss: 0.30\n",
      "Epoch: 008/010 | Batch 009/018 | Train/Val Loss: 0.32\n",
      "Epoch: 008/010 | Batch 010/018 | Train/Val Loss: 0.28\n",
      "Epoch: 008/010 | Batch 011/018 | Train/Val Loss: 0.35\n",
      "Epoch: 008/010 | Batch 012/018 | Train/Val Loss: 0.32\n",
      "Epoch: 008/010 | Batch 013/018 | Train/Val Loss: 0.32\n",
      "Epoch: 008/010 | Batch 014/018 | Train/Val Loss: 0.32\n",
      "Epoch: 008/010 | Batch 015/018 | Train/Val Loss: 0.30\n",
      "Epoch: 008/010 | Batch 016/018 | Train/Val Loss: 0.31\n",
      "Epoch: 008/010 | Batch 017/018 | Train/Val Loss: 0.31\n",
      "Epoch: 0008/0010 Train Acc: 0.9703 Val Acc: 1.0000\n",
      "Epoch: 009/010 | Batch 000/018 | Train/Val Loss: 0.29\n",
      "Epoch: 009/010 | Batch 001/018 | Train/Val Loss: 0.28\n",
      "Epoch: 009/010 | Batch 002/018 | Train/Val Loss: 0.24\n",
      "Epoch: 009/010 | Batch 003/018 | Train/Val Loss: 0.26\n",
      "Epoch: 009/010 | Batch 004/018 | Train/Val Loss: 0.25\n",
      "Epoch: 009/010 | Batch 005/018 | Train/Val Loss: 0.28\n",
      "Epoch: 009/010 | Batch 006/018 | Train/Val Loss: 0.26\n",
      "Epoch: 009/010 | Batch 007/018 | Train/Val Loss: 0.32\n",
      "Epoch: 009/010 | Batch 008/018 | Train/Val Loss: 0.30\n",
      "Epoch: 009/010 | Batch 009/018 | Train/Val Loss: 0.30\n",
      "Epoch: 009/010 | Batch 010/018 | Train/Val Loss: 0.28\n",
      "Epoch: 009/010 | Batch 011/018 | Train/Val Loss: 0.28\n",
      "Epoch: 009/010 | Batch 012/018 | Train/Val Loss: 0.22\n",
      "Epoch: 009/010 | Batch 013/018 | Train/Val Loss: 0.33\n",
      "Epoch: 009/010 | Batch 014/018 | Train/Val Loss: 0.33\n",
      "Epoch: 009/010 | Batch 015/018 | Train/Val Loss: 0.25\n",
      "Epoch: 009/010 | Batch 016/018 | Train/Val Loss: 0.27\n",
      "Epoch: 009/010 | Batch 017/018 | Train/Val Loss: 0.27\n",
      "Epoch: 0009/0010 Train Acc: 0.9808 Val Acc: 1.0000\n",
      "Epoch: 010/010 | Batch 000/018 | Train/Val Loss: 0.26\n",
      "Epoch: 010/010 | Batch 001/018 | Train/Val Loss: 0.23\n",
      "Epoch: 010/010 | Batch 002/018 | Train/Val Loss: 0.25\n",
      "Epoch: 010/010 | Batch 003/018 | Train/Val Loss: 0.22\n",
      "Epoch: 010/010 | Batch 004/018 | Train/Val Loss: 0.25\n",
      "Epoch: 010/010 | Batch 005/018 | Train/Val Loss: 0.28\n",
      "Epoch: 010/010 | Batch 006/018 | Train/Val Loss: 0.22\n",
      "Epoch: 010/010 | Batch 007/018 | Train/Val Loss: 0.27\n",
      "Epoch: 010/010 | Batch 008/018 | Train/Val Loss: 0.23\n",
      "Epoch: 010/010 | Batch 009/018 | Train/Val Loss: 0.19\n",
      "Epoch: 010/010 | Batch 010/018 | Train/Val Loss: 0.22\n",
      "Epoch: 010/010 | Batch 011/018 | Train/Val Loss: 0.21\n",
      "Epoch: 010/010 | Batch 012/018 | Train/Val Loss: 0.21\n",
      "Epoch: 010/010 | Batch 013/018 | Train/Val Loss: 0.22\n",
      "Epoch: 010/010 | Batch 014/018 | Train/Val Loss: 0.25\n",
      "Epoch: 010/010 | Batch 015/018 | Train/Val Loss: 0.28\n",
      "Epoch: 010/010 | Batch 016/018 | Train/Val Loss: 0.16\n",
      "Epoch: 010/010 | Batch 017/018 | Train/Val Loss: 0.21\n",
      "Epoch: 0010/0010 Train Acc: 0.9825 Val Acc: 1.0000\n"
     ]
    }
   ],
   "source": [
    "torch.manual_seed(1)\n",
    "\n",
    "learning_rate = 0.05\n",
    "num_epochs = 10\n",
    "\n",
    "model = MultilayerPerceptron(num_feautures = 2, num_classes = 2)\n",
    "optimizer = torch.optim.SGD(model.parameters(), lr = learning_rate)\n",
    "\n",
    "best_train_acc = 0.0\n",
    "best_val_acc = 0.0\n",
    "best_epoch = 0\n",
    "\n",
    "for epoch in range(num_epochs):\n",
    "    model.train()\n",
    "\n",
    "    for batch_idx, (features, labels) in enumerate(train_loader):\n",
    "        logits = model(features)\n",
    "\n",
    "        loss = F.cross_entropy(logits, labels)\n",
    "\n",
    "        optimizer.zero_grad()\n",
    "        loss.backward()\n",
    "        optimizer.step()\n",
    "\n",
    "        print(f\"Epoch: {epoch+1:03d}/{num_epochs:03d}\"\n",
    "              f\" | Batch {batch_idx:03d}/{len(train_loader):03d}\"\n",
    "              f\" | Train/Val Loss: {loss:.2f}\")\n",
    "    \n",
    "    train_acc = compute_accuracy(model, train_loader)\n",
    "    val_acc = compute_accuracy(model, val_loader)\n",
    "    \n",
    "    if val_acc > best_val_acc:\n",
    "        best_val_acc = val_acc\n",
    "        best_train_acc = train_acc\n",
    "        best_epoch = epoch + 1\n",
    "\n",
    "    print(f\"Epoch: {epoch+1:04d}/{num_epochs:04d}\", 'Train Acc: %.4f' % train_acc, 'Val Acc: %.4f' % val_acc)"
   ]
  },
  {
   "cell_type": "code",
   "execution_count": 99,
   "metadata": {},
   "outputs": [
    {
     "name": "stdout",
     "output_type": "stream",
     "text": [
      "Best validation accuracy: 100.00%\n",
      "Training accuracy of that best: 97.03%\n",
      "Number of Epochs enough: 8\n"
     ]
    }
   ],
   "source": [
    "print(f\"Best validation accuracy: {best_val_acc*100:.2f}%\")\n",
    "print(f\"Training accuracy of that best: {best_train_acc*100:.2f}%\")\n",
    "print(f\"Number of Epochs enough: {best_epoch}\")"
   ]
  },
  {
   "attachments": {},
   "cell_type": "markdown",
   "metadata": {},
   "source": [
    "# Evaluation"
   ]
  },
  {
   "cell_type": "code",
   "execution_count": 100,
   "metadata": {},
   "outputs": [
    {
     "name": "stdout",
     "output_type": "stream",
     "text": [
      "Train accuracy: 98.25%\n",
      "Validation accuracy: 100.00%\n",
      "Test accuracy: 99.12%\n"
     ]
    }
   ],
   "source": [
    "train_acc = compute_accuracy(model, train_loader)\n",
    "val_acc = compute_accuracy(model, val_loader)\n",
    "test_acc = compute_accuracy(model, test_loader)\n",
    "\n",
    "print(f\"Train accuracy: {train_acc*100:.2f}%\")\n",
    "print(f\"Validation accuracy: {val_acc*100:.2f}%\")\n",
    "print(f\"Test accuracy: {test_acc*100:.2f}%\")"
   ]
  },
  {
   "cell_type": "code",
   "execution_count": 101,
   "metadata": {},
   "outputs": [],
   "source": [
    "from matplotlib.colors import ListedColormap\n",
    "\n",
    "\n",
    "def plot_decision_regions(X, y, classifier, resolution=0.02):\n",
    "    # setup marker generator and color map\n",
    "    markers = ('D', '^', 'x', 's', 'v')\n",
    "    colors = ('C0', 'C1', 'C2', 'C3', 'C4')\n",
    "    cmap = ListedColormap(colors[:len(np.unique(y))])\n",
    "\n",
    "    # plot the decision surface\n",
    "    x1_min, x1_max = X[:, 0].min() - 1, X[:, 0].max() + 1\n",
    "    x2_min, x2_max = X[:, 1].min() - 1, X[:, 1].max() + 1\n",
    "    xx1, xx2 = np.meshgrid(np.arange(x1_min, x1_max, resolution),\n",
    "                           np.arange(x2_min, x2_max, resolution))\n",
    "    tensor = torch.tensor(np.array([xx1.ravel(), xx2.ravel()]).T).float()\n",
    "    logits = classifier.forward(tensor)\n",
    "    Z = np.argmax(logits.detach().numpy(), axis=1)\n",
    "\n",
    "    Z = Z.reshape(xx1.shape)\n",
    "    plt.contourf(xx1, xx2, Z, alpha=0.4, cmap=cmap)\n",
    "    plt.xlim(xx1.min(), xx1.max())\n",
    "    plt.ylim(xx2.min(), xx2.max())\n",
    "\n",
    "    # plot class samples\n",
    "    for idx, cl in enumerate(np.unique(y)):\n",
    "        plt.scatter(x=X[y == cl, 0], y=X[y == cl, 1],\n",
    "                    alpha=0.8, color=cmap(idx),\n",
    "                    #edgecolor='black',\n",
    "                    marker=markers[idx], \n",
    "                    label=cl)   \n",
    "    \n",
    "    plt.xlabel('Feature 1')\n",
    "    plt.ylabel('Feature 2')\n",
    "    plt.title('Decision Regions')"
   ]
  },
  {
   "cell_type": "code",
   "execution_count": 102,
   "metadata": {},
   "outputs": [
    {
     "data": {
      "image/png": "[encoded data removed]",
      "text/plain": [
       "<Figure size 640x480 with 1 Axes>"
      ]
     },
     "metadata": {},
     "output_type": "display_data"
    }
   ],
   "source": [
    "plot_decision_regions(X_train, y_train, classifier=model)"
   ]
  }
 ],
 "metadata": {
  "kernelspec": {
   "display_name": "base",
   "language": "python",
   "name": "python3"
  },
  "language_info": {
   "codemirror_mode": {
    "name": "ipython",
    "version": 3
   },
   "file_extension": ".py",
   "mimetype": "text/x-python",
   "name": "python",
   "nbconvert_exporter": "python",
   "pygments_lexer": "ipython3",
   "version": "3.10.11"
  },
  "orig_nbformat": 4
 },
 "nbformat": 4,
 "nbformat_minor": 2
}
